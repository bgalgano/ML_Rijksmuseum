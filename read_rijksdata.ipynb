{
 "cells": [
  {
   "cell_type": "code",
   "execution_count": null,
   "metadata": {
    "id": "yZXMkB5sJ1m1"
   },
   "outputs": [],
   "source": [
    "import scipy.io\n",
    "import h5py\n",
    "import pandas as pd\n",
    "import numpy as np\n",
    "import os\n"
   ]
  },
  {
   "cell_type": "code",
   "execution_count": null,
   "metadata": {
    "id": "jH45pVllH9iG"
   },
   "outputs": [],
   "source": [
    "from google.colab import drive\n",
    "drive.mount('/content/drive')"
   ]
  },
  {
   "cell_type": "code",
   "execution_count": null,
   "metadata": {
    "id": "Uiz32V34Mf1V"
   },
   "outputs": [],
   "source": [
    "os.chdir('/content/drive/MyDrive/Colab Notebooks/rijkmuseum')"
   ]
  },
  {
   "cell_type": "code",
   "execution_count": null,
   "metadata": {
    "id": "BPZNuTQWiHw8"
   },
   "outputs": [],
   "source": [
    "#Read in files\n",
    "Xtrainchunk = pd.read_csv('Xtrain.txt',delimiter = ',',header=None,chunksize=1000)\n",
    "Xtrain = pd.concat(Xtrainchunk)\n",
    "Xtestchunk = pd.read_csv('Xtest.txt',delimiter = ',',header=None,chunksize=1000)\n",
    "Xtest = pd.concat(Xtestchunk)\n",
    "Xvalchunk = pd.read_csv('Xval.txt',delimiter = ',',header=None,chunksize=1000)\n",
    "Xval = pd.concat(Xvalchunk)\n",
    "Xntrainchunk = pd.read_csv('Xntrain.txt',delimiter=',',header=None,chunksize=1000)\n",
    "Xntrain = pd.concat(Xntrainchunk)\n",
    "Xntestchunk = pd.read_csv('Xntest.txt',delimiter=',',header=None,chunksize=1000)\n",
    "Xntest = pd.concat(Xntestchunk)\n",
    "Xnvalchunk = pd.read_csv('Xnval.txt',delimiter=',',header=None,chunksize=1000)\n",
    "Xnval = pd.concat(Xnvalchunk)\n",
    "Namekeytrain = pd.read_csv('Namekeytrain.txt',delimiter=',',header=None)\n",
    "Namekeytest = pd.read_csv('Namekeytest.txt',delimiter=',',header=None)\n",
    "Namekeyval = pd.read_csv('Namekeyval.txt',delimiter=',',header=None)\n",
    "Nameguide = pd.read_csv('rijkNamefile.txt',delimiter='\\t',header=None)\n"
   ]
  }
 ],
 "metadata": {
  "colab": {
   "authorship_tag": "ABX9TyMbmAK2pxQixen9SrH0Euhq",
   "collapsed_sections": [],
   "mount_file_id": "1VuphPCLnUn-h7ENHAS9MPv0o2-2R5VnP",
   "name": "read_rijksdata.ipynb",
   "provenance": []
  },
  "kernelspec": {
   "display_name": "Python 3",
   "language": "python",
   "name": "python3"
  },
  "language_info": {
   "codemirror_mode": {
    "name": "ipython",
    "version": 3
   },
   "file_extension": ".py",
   "mimetype": "text/x-python",
   "name": "python",
   "nbconvert_exporter": "python",
   "pygments_lexer": "ipython3",
   "version": "3.8.5"
  }
 },
 "nbformat": 4,
 "nbformat_minor": 4
}
