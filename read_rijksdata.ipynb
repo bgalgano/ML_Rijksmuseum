{
  "nbformat": 4,
  "nbformat_minor": 0,
  "metadata": {
    "colab": {
      "name": "read_rijksdata.ipynb",
      "provenance": [],
      "collapsed_sections": []
    },
    "kernelspec": {
      "name": "python3",
      "display_name": "Python 3"
    },
    "language_info": {
      "name": "python"
    }
  },
  "cells": [
    {
      "cell_type": "code",
      "execution_count": 2,
      "metadata": {
        "id": "yZXMkB5sJ1m1"
      },
      "outputs": [],
      "source": [
        "import scipy.io\n",
        "import h5py\n",
        "import pandas as pd\n",
        "import numpy as np\n",
        "import os\n",
        "import cv2"
      ]
    },
    {
      "cell_type": "code",
      "source": [
        "from google.colab import drive\n",
        "drive.mount('/content/drive')"
      ],
      "metadata": {
        "id": "jH45pVllH9iG",
        "colab": {
          "base_uri": "https://localhost:8080/"
        },
        "outputId": "ad198e90-72c5-49c5-ccff-8ee657e49319"
      },
      "execution_count": 3,
      "outputs": [
        {
          "output_type": "stream",
          "name": "stdout",
          "text": [
            "Drive already mounted at /content/drive; to attempt to forcibly remount, call drive.mount(\"/content/drive\", force_remount=True).\n"
          ]
        }
      ]
    },
    {
      "cell_type": "code",
      "source": [
        "os.chdir('/content/drive/MyDrive/Colab Notebooks/rijkmuseum')"
      ],
      "metadata": {
        "id": "Uiz32V34Mf1V",
        "colab": {
          "base_uri": "https://localhost:8080/",
          "height": 166
        },
        "outputId": "c2000faa-5228-487d-b659-acda4895c371"
      },
      "execution_count": 1,
      "outputs": [
        {
          "output_type": "error",
          "ename": "NameError",
          "evalue": "ignored",
          "traceback": [
            "\u001b[0;31m---------------------------------------------------------------------------\u001b[0m",
            "\u001b[0;31mNameError\u001b[0m                                 Traceback (most recent call last)",
            "\u001b[0;32m<ipython-input-1-3e685fbc5287>\u001b[0m in \u001b[0;36m<module>\u001b[0;34m()\u001b[0m\n\u001b[0;32m----> 1\u001b[0;31m \u001b[0mos\u001b[0m\u001b[0;34m.\u001b[0m\u001b[0mchdir\u001b[0m\u001b[0;34m(\u001b[0m\u001b[0;34m'/content/drive/MyDrive/Colab Notebooks/rijkmuseum'\u001b[0m\u001b[0;34m)\u001b[0m\u001b[0;34m\u001b[0m\u001b[0;34m\u001b[0m\u001b[0m\n\u001b[0m",
            "\u001b[0;31mNameError\u001b[0m: name 'os' is not defined"
          ]
        }
      ]
    },
    {
      "cell_type": "code",
      "source": [
        "#Read in labels\n",
        "labels = pd.read_csv('labels.txt',delimiter = ',',header=None)\n",
        "names = pd.read_csv('names.txt',delimiter = '/t',header=None)\n",
        "labels = labels.to_numpy(dtype = 'int')\n",
        "labels = np.squeeze(labels)"
      ],
      "metadata": {
        "id": "BPZNuTQWiHw8",
        "colab": {
          "base_uri": "https://localhost:8080/"
        },
        "outputId": "a12f5642-c4b0-4aba-de72-20f31d37be1b"
      },
      "execution_count": 4,
      "outputs": [
        {
          "output_type": "stream",
          "name": "stderr",
          "text": [
            "/usr/local/lib/python3.7/dist-packages/pandas/util/_decorators.py:311: ParserWarning: Falling back to the 'python' engine because the 'c' engine does not support regex separators (separators > 1 char and different from '\\s+' are interpreted as regex); you can avoid this warning by specifying engine='python'.\n",
            "  return func(*args, **kwargs)\n"
          ]
        }
      ]
    },
    {
      "cell_type": "code",
      "source": [
        "##Load in Art\n",
        "numart = labels.shape[0] \n",
        "\n",
        "#Create dummy array\n",
        "artlog = np.zeros((numart,56,56,3),dtype = 'int')\n",
        "\n",
        "#Get addresses\n",
        "img_folder = '' #Address of the folder with images goes here. Make sure you write the complete address\n",
        "img_filenames = os.listdir(img_folder)\n",
        "img_filenames.sort()\n",
        "art_addr = []\n",
        "for ifn in img_filenames:\n",
        "  art_addr.append(img_folder + '/' + ifn)\n",
        "\n",
        "\n",
        "#Load in pieces one at a time\n",
        "for x in range(numart):\n",
        "  newart = cv2.imread(art_addr[x])\n",
        "  if len(newart.shape) == 2:\n",
        "    newart = np.expand_dims(newart,axis=2)\n",
        "    newart = np.concatenate((newart,newart,newart),axis=2)\n",
        "  \n",
        "  artlog[x,:,:,:] = newart\n",
        "\n",
        "\n",
        "\n"
      ],
      "metadata": {
        "id": "-jYxFCvgZG0N"
      },
      "execution_count": null,
      "outputs": []
    },
    {
      "cell_type": "code",
      "source": [
        "## Shuffle\n",
        "\n",
        "#Create Shuffle\n",
        "mixer = np.arange(numart)\n",
        "np.random.shuffle(mixer)\n",
        "\n",
        "#Apply Shuffle\n",
        "artlog = artlog[mixer,:,:,:]\n",
        "labels = labels[mixer]\n"
      ],
      "metadata": {
        "colab": {
          "base_uri": "https://localhost:8080/"
        },
        "id": "vxQnFOG3aMvc",
        "outputId": "02c3dc39-d446-457c-d14a-a6286e9ec992"
      },
      "execution_count": null,
      "outputs": [
        {
          "output_type": "execute_result",
          "data": {
            "text/plain": [
              "(124, 151, 3)"
            ]
          },
          "metadata": {},
          "execution_count": 15
        }
      ]
    },
    {
      "cell_type": "code",
      "source": [
        "## Remove Anonymous/Unknown Author Art (If you wish. Would probably help performance but reduces data by 15%)\n",
        "named_art = (labels <= (names.shape[0] - 2))\n",
        "artlog = artlog[named_art,:,:,:]\n",
        "labels = labels[named_art]\n",
        "numart = labels.shape[0]"
      ],
      "metadata": {
        "id": "hQhtELNBmH7I"
      },
      "execution_count": null,
      "outputs": []
    },
    {
      "cell_type": "code",
      "source": [
        "## Remove Art from Artists with fewer than 10 pieces\n",
        "test_passers = (labels < -2)\n",
        "\n",
        "for x in np.arange(1,names.shape[0]+1):\n",
        "  artistnum = np.count_nonzero(labels == x)\n",
        "  if artistnum >= 50:\n",
        "    test_passers = np.logical_or(test_passers,(labels == x))\n",
        "\n",
        "#artlog = artlog[test_passers,:,:,:]\n",
        "labels = labels[test_passers]\n",
        "numart = labels.shape[0]\n"
      ],
      "metadata": {
        "id": "jCnlJzHCQT6t"
      },
      "execution_count": null,
      "outputs": []
    },
    {
      "cell_type": "code",
      "source": [
        "## Split Data\n",
        "\n",
        "#Declare Split Fractions\n",
        "testfrac = 0.1\n",
        "valfrac = 0.1\n",
        "\n",
        "#Divide into Splits\n",
        "test_train_split = round((1-(testfrac+valfrac)) * artlog.shape[0])\n",
        "test_val_split = round((1-(valfrac)) * artlog.shape[0])\n",
        "\n",
        "artlog_train = artlog[:test_train_split,:,:,:]\n",
        "artlog_test = artlog[test_train_split:test_val_split,:,:,:]\n",
        "artlog_val = artlog[test_val_split:,:,:,:]\n",
        "\n",
        "labels_train = labels[:test_train_split]\n",
        "labels_test = labels[test_train_split:test_val_split]\n",
        "labels_val = labels[test_val_split:]"
      ],
      "metadata": {
        "id": "JlvPkFCCl4Nc",
        "colab": {
          "base_uri": "https://localhost:8080/",
          "height": 235
        },
        "outputId": "c6739be8-29ce-48b7-e3ea-d96a6dd54252"
      },
      "execution_count": null,
      "outputs": [
        {
          "output_type": "error",
          "ename": "NameError",
          "evalue": "ignored",
          "traceback": [
            "\u001b[0;31m---------------------------------------------------------------------------\u001b[0m",
            "\u001b[0;31mNameError\u001b[0m                                 Traceback (most recent call last)",
            "\u001b[0;32m<ipython-input-29-bef1dd20c44c>\u001b[0m in \u001b[0;36m<module>\u001b[0;34m()\u001b[0m\n\u001b[1;32m      6\u001b[0m \u001b[0;34m\u001b[0m\u001b[0m\n\u001b[1;32m      7\u001b[0m \u001b[0;31m#Divide into Splits\u001b[0m\u001b[0;34m\u001b[0m\u001b[0;34m\u001b[0m\u001b[0;34m\u001b[0m\u001b[0m\n\u001b[0;32m----> 8\u001b[0;31m \u001b[0mtest_train_split\u001b[0m \u001b[0;34m=\u001b[0m \u001b[0mround\u001b[0m\u001b[0;34m(\u001b[0m\u001b[0;34m(\u001b[0m\u001b[0;36m1\u001b[0m\u001b[0;34m-\u001b[0m\u001b[0;34m(\u001b[0m\u001b[0mtestfrac\u001b[0m\u001b[0;34m+\u001b[0m\u001b[0mvalfrac\u001b[0m\u001b[0;34m)\u001b[0m\u001b[0;34m)\u001b[0m \u001b[0;34m*\u001b[0m \u001b[0martlog\u001b[0m\u001b[0;34m.\u001b[0m\u001b[0mshape\u001b[0m\u001b[0;34m[\u001b[0m\u001b[0;36m0\u001b[0m\u001b[0;34m]\u001b[0m\u001b[0;34m)\u001b[0m\u001b[0;34m\u001b[0m\u001b[0;34m\u001b[0m\u001b[0m\n\u001b[0m\u001b[1;32m      9\u001b[0m \u001b[0mtest_val_split\u001b[0m \u001b[0;34m=\u001b[0m \u001b[0mround\u001b[0m\u001b[0;34m(\u001b[0m\u001b[0;34m(\u001b[0m\u001b[0;36m1\u001b[0m\u001b[0;34m-\u001b[0m\u001b[0;34m(\u001b[0m\u001b[0mvalfrac\u001b[0m\u001b[0;34m)\u001b[0m\u001b[0;34m)\u001b[0m \u001b[0;34m*\u001b[0m \u001b[0martlog\u001b[0m\u001b[0;34m.\u001b[0m\u001b[0mshape\u001b[0m\u001b[0;34m[\u001b[0m\u001b[0;36m0\u001b[0m\u001b[0;34m]\u001b[0m\u001b[0;34m)\u001b[0m\u001b[0;34m\u001b[0m\u001b[0;34m\u001b[0m\u001b[0m\n\u001b[1;32m     10\u001b[0m \u001b[0;34m\u001b[0m\u001b[0m\n",
            "\u001b[0;31mNameError\u001b[0m: name 'artlog' is not defined"
          ]
        }
      ]
    },
    {
      "cell_type": "code",
      "source": [
        "## Direct Name Labels (If you want them)\n",
        "\n",
        "namelabels_train = names[labels_train]\n",
        "namelabels_test = names[labels_test]\n",
        "namelabels_val = names[labels_val]"
      ],
      "metadata": {
        "colab": {
          "base_uri": "https://localhost:8080/"
        },
        "id": "Y6SNuCpAdW3q",
        "outputId": "bbc0e914-e0d2-4a28-ebc0-3da2e252a1ad"
      },
      "execution_count": null,
      "outputs": [
        {
          "output_type": "stream",
          "name": "stdout",
          "text": [
            "None\n"
          ]
        }
      ]
    }
  ]
}