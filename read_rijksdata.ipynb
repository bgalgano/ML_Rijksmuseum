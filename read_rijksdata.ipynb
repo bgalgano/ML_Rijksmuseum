{
 "cells": [
  {
   "cell_type": "code",
   "execution_count": 1,
   "metadata": {
    "id": "yZXMkB5sJ1m1"
   },
   "outputs": [],
   "source": [
    "import scipy.io\n",
    "import h5py\n",
    "import pandas as pd\n",
    "import numpy as np\n",
    "import os\n",
    "import cv2"
   ]
  },
  {
   "cell_type": "raw",
   "metadata": {
    "colab": {
     "base_uri": "https://localhost:8080/"
    },
    "id": "jH45pVllH9iG",
    "outputId": "a8c2542d-909e-42dd-c023-ef71f19a176d"
   },
   "source": [
    "from google.colab import drive\n",
    "drive.mount('/content/drive')"
   ]
  },
  {
   "cell_type": "raw",
   "metadata": {
    "id": "Uiz32V34Mf1V"
   },
   "source": [
    "os.chdir('/content/drive/MyDrive/Colab Notebooks/rijkmuseum')"
   ]
  },
  {
   "cell_type": "code",
   "execution_count": 2,
   "metadata": {
    "colab": {
     "base_uri": "https://localhost:8080/"
    },
    "id": "BPZNuTQWiHw8",
    "outputId": "c9c552f0-2572-417b-b02d-3af5bad8b55f"
   },
   "outputs": [],
   "source": [
    "#Read in labels\n",
    "labels = pd.read_csv('labels.txt',delimiter = ',',header=None, engine='python')\n",
    "names = pd.read_csv('names.txt',delimiter = '/t',header=None, engine='python')\n",
    "names = np.array(names)\n",
    "\n",
    "labels = labels.to_numpy(dtype = 'int')\n",
    "labels = np.squeeze(labels)"
   ]
  },
  {
   "cell_type": "code",
   "execution_count": 3,
   "metadata": {
    "id": "-jYxFCvgZG0N"
   },
   "outputs": [],
   "source": [
    "##Load in Art\n",
    "numart = labels.shape[0] \n",
    "\n",
    "#Create dummy array\n",
    "artlog = np.zeros((numart,56,56,3),dtype = 'int')\n",
    "\n",
    "#Get addresses\n",
    "img_folder = '' #Address of the folder with images goes here. Make sure you write the complete address\n",
    "img_folder = '/Users/erebor/Downloads/out_img'\n",
    "img_filenames = os.listdir(img_folder)\n",
    "art_addr = []\n",
    "for ifn in img_filenames:\n",
    "    art_addr.append(img_folder + '/' + ifn)\n",
    "\n",
    "\n",
    "#Load in pieces one at a time\n",
    "for x in range(numart):\n",
    "    newart = cv2.imread(art_addr[x])\n",
    "    if len(newart.shape) == 2:\n",
    "        newart = np.expand_dims(newart,axis=2)\n",
    "        newart = np.concatenate((newart,newart,newart),axis=2)\n",
    "    artlog[x,:,:,:] = newart"
   ]
  },
  {
   "cell_type": "code",
   "execution_count": 4,
   "metadata": {
    "colab": {
     "base_uri": "https://localhost:8080/"
    },
    "id": "vxQnFOG3aMvc",
    "outputId": "02c3dc39-d446-457c-d14a-a6286e9ec992"
   },
   "outputs": [],
   "source": [
    "# Shuffle\n",
    "\n",
    "# Create Shuffle\n",
    "mixer = np.arange(numart)\n",
    "np.random.shuffle(mixer)\n",
    "\n",
    "# Apply Shuffle\n",
    "artlog = artlog[mixer,:,:,:]\n",
    "labels = labels[mixer]"
   ]
  },
  {
   "cell_type": "code",
   "execution_count": 5,
   "metadata": {
    "id": "hQhtELNBmH7I"
   },
   "outputs": [],
   "source": [
    "# Remove Anonymous/Unknown Author Art (If you wish. Would probably help performance but reduces data by 15%)\n",
    "named_art = (labels <= (names.shape[0] - 2))\n",
    "artlog = artlog[named_art,:,:,:]\n",
    "labels = labels[named_art]\n",
    "numart = labels.shape[0]"
   ]
  },
  {
   "cell_type": "code",
   "execution_count": 8,
   "metadata": {
    "id": "jCnlJzHCQT6t"
   },
   "outputs": [],
   "source": [
    "## Remove Art from Artists with fewer than 10 pieces\n",
    "test_passers = (labels < -2)\n",
    "\n",
    "for x in np.arange(1,names.shape[0]+1):\n",
    "    artistnum = np.count_nonzero(labels == x)\n",
    "    if artistnum >= 10:\n",
    "        test_passers = np.logical_or(test_passers,(labels == x))\n",
    "\n",
    "artlog = artlog[test_passers,:,:,:]\n",
    "labels = labels[test_passers]\n",
    "numart = labels.shape[0]\n",
    "names_ = names[labels]"
   ]
  },
  {
   "cell_type": "code",
   "execution_count": 12,
   "metadata": {},
   "outputs": [
    {
     "data": {
      "text/plain": [
       "array([['kons\\x1a\\x1a-philips, margaretha elisabeth'],\n",
       "       ['meester van elsloo'],\n",
       "       ['philips, jan caspar'],\n",
       "       ...,\n",
       "       ['calraet, abraham van'],\n",
       "       ['philips'],\n",
       "       ['galle, theodoor']], dtype=object)"
      ]
     },
     "execution_count": 12,
     "metadata": {},
     "output_type": "execute_result"
    }
   ],
   "source": []
  },
  {
   "cell_type": "code",
   "execution_count": 10,
   "metadata": {},
   "outputs": [
    {
     "name": "stdout",
     "output_type": "stream",
     "text": [
      "artlog (82620, 56, 56, 3)\n",
      "labels (82620,)\n",
      "numart 82620\n",
      "names (82620, 1)\n"
     ]
    }
   ],
   "source": [
    "print(\"artlog\",artlog.shape)\n",
    "print(\"labels\",labels.shape)\n",
    "print(\"numart\",numart)\n",
    "print(\"names\",names_.shape)\n"
   ]
  },
  {
   "cell_type": "code",
   "execution_count": null,
   "metadata": {
    "id": "JlvPkFCCl4Nc"
   },
   "outputs": [],
   "source": [
    "## Split Data\n",
    "\n",
    "#Declare Split Fractions\n",
    "testfrac = 0.1\n",
    "valfrac = 0.1\n",
    "\n",
    "#Divide into Splits\n",
    "test_train_split = round((1-(testfrac+valfrac)) * artlog.shape[0])\n",
    "test_val_split = round((1-(valfrac)) * artlog.shape[0])\n",
    "\n",
    "artlog_train = artlog[:test_train_split,:,:,:]\n",
    "artlog_test = artlog[test_train_split:test_val_split,:,:,:]\n",
    "artlog_val = artlog[test_val_split:,:,:,:]\n",
    "\n",
    "labels_train = labels[:test_train_split]\n",
    "labels_test = labels[test_train_split:test_val_split]\n",
    "labels_val = labels[test_val_split:]"
   ]
  },
  {
   "cell_type": "code",
   "execution_count": null,
   "metadata": {
    "colab": {
     "base_uri": "https://localhost:8080/"
    },
    "id": "Y6SNuCpAdW3q",
    "outputId": "bbc0e914-e0d2-4a28-ebc0-3da2e252a1ad"
   },
   "outputs": [],
   "source": [
    "## Direct Name Labels (If you want them)\n",
    "namelabels_train = names[labels_train]\n",
    "namelabels_test = names[labels_test]\n",
    "namelabels_val = names[labels_val]"
   ]
  },
  {
   "cell_type": "code",
   "execution_count": null,
   "metadata": {},
   "outputs": [],
   "source": []
  },
  {
   "cell_type": "code",
   "execution_count": null,
   "metadata": {},
   "outputs": [],
   "source": []
  }
 ],
 "metadata": {
  "colab": {
   "collapsed_sections": [],
   "name": "read_rijksdata.ipynb",
   "provenance": []
  },
  "kernelspec": {
   "display_name": "Python 3",
   "language": "python",
   "name": "python3"
  },
  "language_info": {
   "codemirror_mode": {
    "name": "ipython",
    "version": 3
   },
   "file_extension": ".py",
   "mimetype": "text/x-python",
   "name": "python",
   "nbconvert_exporter": "python",
   "pygments_lexer": "ipython3",
   "version": "3.8.5"
  }
 },
 "nbformat": 4,
 "nbformat_minor": 4
}
