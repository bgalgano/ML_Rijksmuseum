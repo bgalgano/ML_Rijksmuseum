{
 "cells": [
  {
   "cell_type": "code",
   "execution_count": null,
   "metadata": {
    "id": "yZXMkB5sJ1m1"
   },
   "outputs": [],
   "source": [
    "import scipy.io\n",
    "import h5py\n",
    "import pandas as pd\n",
    "import numpy as np\n",
    "import os\n",
    "import cv2"
   ]
  },
  {
   "cell_type": "code",
   "execution_count": null,
   "metadata": {
    "colab": {
     "base_uri": "https://localhost:8080/"
    },
    "id": "jH45pVllH9iG",
    "outputId": "0566da18-dd3f-41d5-b1ea-43c0698828bf"
   },
   "outputs": [
    {
     "name": "stdout",
     "output_type": "stream",
     "text": [
      "Drive already mounted at /content/drive; to attempt to forcibly remount, call drive.mount(\"/content/drive\", force_remount=True).\n"
     ]
    }
   ],
   "source": [
    "from google.colab import drive\n",
    "drive.mount('/content/drive')"
   ]
  },
  {
   "cell_type": "code",
   "execution_count": null,
   "metadata": {
    "id": "Uiz32V34Mf1V"
   },
   "outputs": [],
   "source": [
    "os.chdir('/content/drive/MyDrive/Colab Notebooks/rijkmuseum')"
   ]
  },
  {
   "cell_type": "code",
   "execution_count": null,
   "metadata": {
    "colab": {
     "base_uri": "https://localhost:8080/"
    },
    "id": "BPZNuTQWiHw8",
    "outputId": "f5a5f6a1-add8-4184-e421-4d174abfe77b"
   },
   "outputs": [
    {
     "name": "stderr",
     "output_type": "stream",
     "text": [
      "/usr/local/lib/python3.7/dist-packages/pandas/util/_decorators.py:311: ParserWarning: Falling back to the 'python' engine because the 'c' engine does not support regex separators (separators > 1 char and different from '\\s+' are interpreted as regex); you can avoid this warning by specifying engine='python'.\n",
      "  return func(*args, **kwargs)\n"
     ]
    }
   ],
   "source": [
    "#Read in labels\n",
    "labels = pd.read_csv('labels.txt',delimiter = ',',header=None)\n",
    "names = pd.read_csv('names.txt',delimiter = '/t',header=None)\n",
    "labels = labels.to_numpy(dtype = 'int')\n",
    "labels = np.squeeze(labels)"
   ]
  },
  {
   "cell_type": "code",
   "execution_count": null,
   "metadata": {
    "id": "-jYxFCvgZG0N"
   },
   "outputs": [],
   "source": [
    "##Load in Art\n",
    "numart = labels.shape[0] \n",
    "\n",
    "#Create dummy array\n",
    "artlog = np.zeros((numart,224,224,3),dtype = 'int')\n",
    "\n",
    "#Get addresses\n",
    "img_folder = '' #Address of the folder with images goes here. Make sure you write the complete address\n",
    "img_filenames = os.listdir(img_folder)\n",
    "img_filenames.sort()\n",
    "art_addr = []\n",
    "for ifn in img_filenames:\n",
    "  art_addr.append(img_folder + '/' + ifn)\n",
    "\n",
    "\n",
    "#Load in pieces one at a time\n",
    "for x in range(numart):\n",
    "  newart = cv2.imread(art_addr[x])\n",
    "  if len(newart.shape) == 2:\n",
    "    newart = np.expand_dims(newart,axis=2)\n",
    "    newart = np.concatenate((newart,newart,newart),axis=2)\n",
    "  \n",
    "  artlog[x,:,:,:] = newart\n",
    "\n",
    "\n",
    "\n"
   ]
  },
  {
   "cell_type": "code",
   "execution_count": null,
   "metadata": {
    "id": "hQhtELNBmH7I"
   },
   "outputs": [],
   "source": [
    "## Remove Anonymous/Unknown Author Art (If you wish. Would probably help performance but reduces data by 15%)\n",
    "named_art = (labels <= (names.shape[0] - 2))\n",
    "artlog = artlog[named_art,:,:,:]\n",
    "labels = labels[named_art]\n",
    "numart = labels.shape[0]"
   ]
  },
  {
   "cell_type": "code",
   "execution_count": null,
   "metadata": {
    "id": "jCnlJzHCQT6t"
   },
   "outputs": [],
   "source": [
    "## Remove Art from Artists with fewer than 10 pieces\n",
    "test_passers = (labels < -2)\n",
    "\n",
    "for x in np.arange(1,names.shape[0]+1):\n",
    "  artistnum = np.count_nonzero(labels == x)\n",
    "  if artistnum >= 50:\n",
    "    test_passers = np.logical_or(test_passers,(labels == x))\n",
    "\n",
    "#artlog = artlog[test_passers,:,:,:]\n",
    "labels = labels[test_passers]\n",
    "numart = labels.shape[0]\n"
   ]
  },
  {
   "cell_type": "code",
   "execution_count": null,
   "metadata": {
    "colab": {
     "base_uri": "https://localhost:8080/"
    },
    "id": "vxQnFOG3aMvc",
    "outputId": "970efb73-03f0-49cd-f08d-74ddb7ba5149"
   },
   "outputs": [
    {
     "name": "stdout",
     "output_type": "stream",
     "text": [
      "3\n",
      "4\n",
      "4\n",
      "6\n",
      "7\n",
      "2\n",
      "1\n",
      "1\n",
      "4\n",
      "1\n",
      "3\n",
      "6\n",
      "3\n",
      "4\n",
      "2\n",
      "5\n",
      "2\n",
      "3\n",
      "2\n",
      "2\n",
      "4\n",
      "4\n",
      "5\n",
      "6\n",
      "3\n",
      "3\n",
      "6\n",
      "6\n",
      "3\n",
      "3\n",
      "6\n",
      "2\n",
      "1\n",
      "3\n",
      "6\n",
      "4\n",
      "5\n",
      "2\n",
      "4\n",
      "5\n",
      "7\n",
      "3\n",
      "2\n",
      "1\n",
      "4\n",
      "5\n",
      "4\n",
      "2\n",
      "5\n",
      "6\n",
      "4\n",
      "2\n",
      "2\n",
      "4\n",
      "2\n",
      "4\n",
      "6\n",
      "4\n",
      "5\n",
      "1\n",
      "4\n",
      "4\n",
      "3\n",
      "2\n",
      "5\n",
      "6\n",
      "3\n",
      "7\n",
      "3\n",
      "6\n",
      "8\n",
      "5\n",
      "3\n",
      "6\n",
      "2\n",
      "1\n",
      "3\n",
      "3\n",
      "2\n",
      "4\n",
      "2\n",
      "8\n",
      "5\n",
      "8\n",
      "4\n",
      "7\n",
      "4\n",
      "1\n",
      "1\n",
      "2\n",
      "3\n",
      "3\n",
      "5\n",
      "2\n",
      "4\n",
      "3\n",
      "3\n",
      "4\n",
      "1\n",
      "3\n",
      "5\n",
      "5\n",
      "4\n",
      "4\n",
      "7\n",
      "8\n",
      "2\n",
      "5\n",
      "5\n",
      "4\n",
      "8\n",
      "7\n",
      "1\n",
      "2\n",
      "2\n",
      "4\n",
      "2\n",
      "2\n",
      "2\n",
      "2\n",
      "7\n",
      "5\n",
      "1\n",
      "7\n",
      "3\n",
      "3\n",
      "0\n"
     ]
    }
   ],
   "source": [
    "## Shuffle - Split - Check for Balance\n",
    "goodbalance = False\n",
    "\n",
    "while goodbalance == False:\n",
    "  ## Shuffle\n",
    "\n",
    "  #Create Shuffle\n",
    "  mixer = np.arange(numart)\n",
    "  np.random.shuffle(mixer)\n",
    "\n",
    "  #Apply Shuffle\n",
    "  artlog = artlog[mixer,:,:,:]\n",
    "  labels = labels[mixer]\n",
    "\n",
    "  ## Split Data\n",
    "\n",
    "  #Declare Split Fractions\n",
    "  testfrac = 0.1\n",
    "  valfrac = 0.1\n",
    "\n",
    "  #Divide into Splits\n",
    "  test_train_split = round((1-(testfrac+valfrac)) * labels.shape[0])\n",
    "  test_val_split = round((1-(valfrac)) * labels.shape[0])\n",
    "\n",
    "  artlog_train = artlog[:test_train_split,:,:,:]\n",
    "  artlog_test = artlog[test_train_split:test_val_split,:,:,:]\n",
    "  artlog_val = artlog[test_val_split:,:,:,:]\n",
    "\n",
    "  labels_train = labels[:test_train_split]\n",
    "  labels_test = labels[test_train_split:test_val_split]\n",
    "  labels_val = labels[test_val_split:]\n",
    "\n",
    "  ##Check for Balance\n",
    "  \n",
    "  check_bool = np.array([],dtype=bool)\n",
    "\n",
    "  #Perform Artist Count in Each Split\n",
    "  total_bc = np.bincount(labels)\n",
    "  train_bc = np.concatenate((np.bincount(labels_train),np.zeros(len(total_bc)-len(np.bincount(labels_train),))),)\n",
    "  test_bc = np.concatenate((np.bincount(labels_test),np.zeros(len(total_bc)-len(np.bincount(labels_test),))),)\n",
    "  val_bc = np.concatenate((np.bincount(labels_val),np.zeros(len(total_bc)-len(np.bincount(labels_val),))),)\n",
    "\n",
    "  #Check balance at each artist\n",
    "  for i in range(len(total_bc)):\n",
    "    if (total_bc[i] != 0):\n",
    "      check_bool = np.append(check_bool,( (abs(train_bc[i]-total_bc[i]*0.8) >= total_bc[i]*0.2) or (abs(test_bc[i]-total_bc[i]*0.1) >= total_bc[i]*0.1) or (abs(val_bc[i]-total_bc[i]*0.1) >= total_bc[i]*0.1 ) ))\n",
    "\n",
    "  print(sum(check_bool))\n",
    "\n",
    "  if sum(check_bool) <= 0:\n",
    "    goodbalance = True\n"
   ]
  },
  {
   "cell_type": "code",
   "execution_count": null,
   "metadata": {
    "colab": {
     "base_uri": "https://localhost:8080/"
    },
    "id": "Y6SNuCpAdW3q",
    "outputId": "bbc0e914-e0d2-4a28-ebc0-3da2e252a1ad"
   },
   "outputs": [
    {
     "name": "stdout",
     "output_type": "stream",
     "text": [
      "None\n"
     ]
    }
   ],
   "source": [
    "## Direct Name Labels (If you want them)\n",
    "\n",
    "namelabels_train = names[labels_train]\n",
    "namelabels_test = names[labels_test]\n",
    "namelabels_val = names[labels_val]"
   ]
  }
 ],
 "metadata": {
  "colab": {
   "collapsed_sections": [],
   "name": "read_rijksdata.ipynb",
   "provenance": []
  },
  "kernelspec": {
   "display_name": "Python 3",
   "language": "python",
   "name": "python3"
  },
  "language_info": {
   "codemirror_mode": {
    "name": "ipython",
    "version": 3
   },
   "file_extension": ".py",
   "mimetype": "text/x-python",
   "name": "python",
   "nbconvert_exporter": "python",
   "pygments_lexer": "ipython3",
   "version": "3.8.5"
  }
 },
 "nbformat": 4,
 "nbformat_minor": 4
}
