{
 "cells": [
  {
   "cell_type": "markdown",
   "metadata": {
    "id": "_CQoTKaPKpVE"
   },
   "source": [
    "Generate encoded vectors for both query and artist aggregrate images"
   ]
  },
  {
   "cell_type": "code",
   "execution_count": 1,
   "metadata": {
    "id": "QNV-EKWPKpVG"
   },
   "outputs": [
    {
     "name": "stderr",
     "output_type": "stream",
     "text": [
      "/opt/anaconda3/lib/python3.8/site-packages/tensorflow_addons/utils/ensure_tf_install.py:53: UserWarning: Tensorflow Addons supports using Python ops for all Tensorflow versions above or equal to 2.6.0 and strictly below 2.9.0 (nightly versions are not supported). \n",
      " The versions of TensorFlow you are currently using is 2.4.1 and is not supported. \n",
      "Some things might work, some things might not.\n",
      "If you were to encounter a bug, do not file an issue.\n",
      "If you want to make sure you're using a tested and supported configuration, either change the TensorFlow version or the TensorFlow Addons's version. \n",
      "You can find the compatibility matrix in TensorFlow Addon's readme:\n",
      "https://github.com/tensorflow/addons\n",
      "  warnings.warn(\n"
     ]
    }
   ],
   "source": [
    "import read_rijksdata\n",
    "import pandas as pd\n",
    "import numpy as np\n",
    "import tensorflow as tf\n",
    "import tensorflow_addons as tfa \n",
    "\n",
    "import matplotlib.pylab as plt\n",
    "import matplotlib as mpl\n",
    "MIN_NUM_ARTWORK = 500\n"
   ]
  },
  {
   "cell_type": "code",
   "execution_count": 2,
   "metadata": {
    "id": "cPuvAGpNKpVH",
    "outputId": "21239034-94ec-4ff9-941f-bf54816ed163"
   },
   "outputs": [
    {
     "name": "stderr",
     "output_type": "stream",
     "text": [
      "/Users/erebor/repos/ML_Rijksmuseum/read_rijksdata.py:25: ParserWarning: Falling back to the 'python' engine because the 'c' engine does not support regex separators (separators > 1 char and different from '\\s+' are interpreted as regex); you can avoid this warning by specifying engine='python'.\n",
      "  names = pd.read_csv(names_file,delimiter = '/t',header=None)\n"
     ]
    },
    {
     "name": "stdout",
     "output_type": "stream",
     "text": [
      " |███████████████████████████████████████-| 112038/112039 \n",
      "\n",
      "Dataset loaded!\n",
      "images shape:\t (19007, 56, 56, 3)\n",
      "labels shape:\t (19007,)\n",
      "labels (one-hot): (19007, 21)\n",
      "names shape:\t (19007, 1)\n"
     ]
    }
   ],
   "source": [
    "# LOAD IMAGE AND LABELS HERE\n",
    "# replace for your path here!\n",
    "img_folder = '/Users/erebor/Downloads/out_img'\n",
    "\n",
    "images, labels_onehot, labels, names, = read_rijksdata.load_data(MIN_NUM_ARTWORK=MIN_NUM_ARTWORK,\n",
    "                                                 img_folder = img_folder,\n",
    "                                                 labels_file ='labels.txt',\n",
    "                                                 names_file = 'names.txt')"
   ]
  },
  {
   "cell_type": "code",
   "execution_count": 3,
   "metadata": {
    "id": "cPuvAGpNKpVH",
    "outputId": "21239034-94ec-4ff9-941f-bf54816ed163"
   },
   "outputs": [
    {
     "name": "stdout",
     "output_type": "stream",
     "text": [
      "\n",
      "# of unique artists: 21\n",
      "Min # of artworks for all artists: 517\n",
      "Min # of artworks specified: 500\n"
     ]
    }
   ],
   "source": [
    "classes = len(list(set(labels)))\n",
    "print('\\n# of unique artists:',classes)\n",
    "\n",
    "counts = pd.DataFrame(labels).value_counts()\n",
    "print('Min # of artworks for all artists:',min(counts))\n",
    "print('Min # of artworks specified:',MIN_NUM_ARTWORK)"
   ]
  },
  {
   "cell_type": "code",
   "execution_count": 4,
   "metadata": {
    "id": "emVEhfBlKpVI"
   },
   "outputs": [],
   "source": [
    "# LOAD PRE-TRAINED ENCODER\n",
    "# get base pre-trained model first\n",
    "# more models are available here: https://www.tensorflow.org/api_docs/python/tf/keras/applications\n",
    "\n",
    "# define hyperparameters\n",
    "# define image size \n",
    "input_shape = (56,56,3)\n",
    "D = 21\n",
    "# define number of classes\n",
    "# ****THIS sets the number of dimensions of the encoded vector (\"D\") in Mark's email***\n",
    "# we'll probably want adjust this to be smaller or larger (depending on training results)\n",
    "# for now, classes are just the number of unique artist\n",
    "base_kwargs = {'include_top':False,\n",
    "               'weights':'imagenet',\n",
    "               'input_shape':input_shape,\n",
    "               'pooling':None,\n",
    "               'classes':D}\n",
    "#enet_base = tf.keras.applications.efficientnet.EfficientNetB7(**enet_kwargs)\n",
    "base = tf.keras.applications.vgg19.VGG19(**base_kwargs)\n",
    "\n",
    "# set that the encoder DOES NOT train on the images\n",
    "base.trainable = True\n",
    "\n",
    "# set pre-trained model as base\n",
    "encoder = tf.keras.models.Sequential()\n",
    "encoder.add(base)\n",
    "\n",
    "# add two final top layers\n",
    "#encoder.add(tf.keras.layers.GlobalMaxPooling2D())\n",
    "encoder.add(tf.keras.layers.GlobalMaxPooling2D())\n",
    "#encoder.add(tf.keras.layers.Dropout(rate=0.01))\n",
    "\n",
    "encoder.add(tf.keras.layers.Dense(D, activation=\"sigmoid\")) # last (top) layer of network"
   ]
  },
  {
   "cell_type": "code",
   "execution_count": 5,
   "metadata": {
    "id": "Fe9On_u5KpVI",
    "outputId": "db80e953-37f0-4269-ce5e-0086840332d3"
   },
   "outputs": [
    {
     "name": "stdout",
     "output_type": "stream",
     "text": [
      "Model: \"sequential\"\n",
      "_________________________________________________________________\n",
      "Layer (type)                 Output Shape              Param #   \n",
      "=================================================================\n",
      "vgg19 (Functional)           (None, 1, 1, 512)         20024384  \n",
      "_________________________________________________________________\n",
      "global_max_pooling2d (Global (None, 512)               0         \n",
      "_________________________________________________________________\n",
      "dense (Dense)                (None, 21)                10773     \n",
      "=================================================================\n",
      "Total params: 20,035,157\n",
      "Trainable params: 20,035,157\n",
      "Non-trainable params: 0\n",
      "_________________________________________________________________\n"
     ]
    }
   ],
   "source": [
    "encoder.summary()"
   ]
  },
  {
   "cell_type": "code",
   "execution_count": 6,
   "metadata": {},
   "outputs": [],
   "source": [
    "# loss function\n",
    "loss = tf.keras.losses.CategoricalCrossentropy(from_logits=False,\n",
    "                                               label_smoothing=0.0,\n",
    "                                               name='categorical_crossentropy')\n",
    "\n",
    "# metrics\n",
    "\n",
    "TopKs = []\n",
    "for k in [1,5,10,20]:\n",
    "    TopK = tf.keras.metrics.TopKCategoricalAccuracy(k=k, name='top_{}'.format(k))\n",
    "    TopKs.append(TopK)\n",
    "metrics = [\"acc\"]\n",
    "metrics.extend(TopKs)\n",
    "\n",
    "f1 = tfa.metrics.F1Score(num_classes=classes, threshold=0.5)\n",
    "metrics.append(f1)\n",
    "\n",
    "# Optimizer\n",
    "# very average Adam settings\n",
    "optimizer = tf.keras.optimizers.Adam(learning_rate=0.001)\n",
    "\n",
    "#optimizer = tf.keras.optimizers.RMSprop(learning_rate=0.001)\n",
    "# compile it all\n",
    "encoder.compile(loss=loss,\n",
    "                optimizer=optimizer,\n",
    "                metrics=metrics)"
   ]
  },
  {
   "cell_type": "code",
   "execution_count": null,
   "metadata": {},
   "outputs": [
    {
     "name": "stdout",
     "output_type": "stream",
     "text": [
      "Epoch 1/10\n",
      "16/16 [==============================] - 426s 27s/step - loss: 0.0000e+00 - acc: 0.0000e+00 - top_1: 0.0000e+00 - top_5: 0.0135 - top_10: 0.0135 - top_20: 0.9342 - f1_score: 0.0000e+00 - val_loss: 0.0000e+00 - val_acc: 1.0000 - val_top_1: 1.0000 - val_top_5: 1.0000 - val_top_10: 1.0000 - val_top_20: 1.0000 - val_f1_score: 0.0000e+00\n",
      "Epoch 2/10\n",
      " 8/16 [==============>...............] - ETA: 3:45 - loss: 0.0000e+00 - acc: 1.0000 - top_1: 1.0000 - top_5: 1.0000 - top_10: 1.0000 - top_20: 1.0000 - f1_score: 0.0000e+00"
     ]
    }
   ],
   "source": [
    "history = encoder.fit(x=images,y=labels_onehot,validation_split=.20, epochs=10,batch_size=1000)"
   ]
  },
  {
   "cell_type": "code",
   "execution_count": null,
   "metadata": {
    "id": "5bUIq4OgKpVJ"
   },
   "outputs": [],
   "source": [
    "# Create encoded tensors for all \n",
    "encoded_arts = encoder.predict(images,verbose=1)"
   ]
  },
  {
   "cell_type": "code",
   "execution_count": null,
   "metadata": {},
   "outputs": [],
   "source": [
    "encoded_arts"
   ]
  },
  {
   "cell_type": "code",
   "execution_count": null,
   "metadata": {
    "id": "5bUIq4OgKpVJ"
   },
   "outputs": [],
   "source": [
    "# Count how many pieces each artist has\n",
    "total_bc = np.bincount(labels) # get count of artists\n",
    "artcounts = total_bc[np.unique(labels)] # get count of artworks for each unique artist\n",
    "artistnames = names[np.unique(labels)] # get the name for each unique artist"
   ]
  },
  {
   "cell_type": "code",
   "execution_count": null,
   "metadata": {},
   "outputs": [],
   "source": [
    "def plot_images(images,artistname):\n",
    "\n",
    "    # plot a selection of 25 (5x5) artwork\n",
    "    fig, axes = plt.subplots(figsize=(10,10),nrows=5,ncols=5)\n",
    "    fig.patch.set_facecolor('white')\n",
    "\n",
    "    i = 0 \n",
    "    for ax in axes.reshape(-1): \n",
    "        ax.imshow(images[i,:,:,:])\n",
    "        ax.set_xticks([]),ax.set_yticks([])\n",
    "        i +=1\n",
    "    plt.suptitle('Artist: {}'.format(artistname),fontsize=15)\n",
    "    fig.subplots_adjust(top=0.9)\n",
    "    plt.savefig('figs/samples/artist_{}.png'.format(artistname[0].replace(',','-').replace(' ','-')),dpi=200, bbox_inches='tight')\n",
    "    plt.show()\n",
    "    plt.close()"
   ]
  },
  {
   "cell_type": "code",
   "execution_count": null,
   "metadata": {},
   "outputs": [],
   "source": [
    "artcounts[i]//2"
   ]
  },
  {
   "cell_type": "code",
   "execution_count": null,
   "metadata": {
    "id": "sDjJtZGYKpVJ"
   },
   "outputs": [],
   "source": [
    "# Create aggregate vectors\n",
    "aggregate_vectors = []\n",
    "\n",
    "for i in range(len(artcounts)):\n",
    "    artistnum = np.unique(labels)[i] #Gets the number that represents this artist from labels\n",
    "    artistname = artistnames[i]\n",
    "    artcount = artcounts[i] #Gets number of art pieces by this artist\n",
    "    artistaddr = np.where(labels == artistnum) #Collects indices of this artist's art\n",
    "    \n",
    "    #calculate mean (aggregrate) vector for a single artist \n",
    "    #print('artist:',artistname,' vectors shape:',encoded_arts[artistaddr].shape)\n",
    "    #print(encoded_arts[artistaddr])\n",
    "    #print()\n",
    "    \n",
    "    # PREVIEW images for each artist \n",
    "    #plot_images(images[artistaddr],artistname)\n",
    "    \n",
    "    # take mean of all of the artist's vectors and store\n",
    "    artist_vector = np.mean(encoded_arts[artistaddr],axis=0)\n",
    "    \n",
    "    aggregate_vectors.append(artist_vector)\n",
    "\n",
    "    #x = np.expand_dims(encoded_arts[artistaddr].T,axis=2)\n",
    "    #artist_vector = pool_layer(x).numpy()\n",
    "    #aggregate_vectors.append(artist_vector.reshape(50,))\n",
    "      \n",
    "aggregate_vectors = np.array(aggregate_vectors)"
   ]
  },
  {
   "cell_type": "code",
   "execution_count": null,
   "metadata": {},
   "outputs": [],
   "source": [
    "plt.figure()\n",
    "bins = np.arange(0,1.1,0.05)\n",
    "for vector in aggregate_vectors:\n",
    "    plt.hist(vector,bins=bins,alpha=0.25,histtype='bar')\n",
    "plt.xlim(-0.05,1.05)\n",
    "plt.show()\n",
    "plt.close()"
   ]
  },
  {
   "cell_type": "code",
   "execution_count": null,
   "metadata": {},
   "outputs": [],
   "source": [
    "def plot_aggregates(aggregate_vectors,artistnames,n=3):\n",
    "    idx = list(range(aggregate_vectors.shape[0]))\n",
    "    idxs = np.random.choice(a=idx,size=n*n)\n",
    "    vectors = aggregate_vectors[idxs]\n",
    "    artists = artistnames[idxs]\n",
    "    \n",
    "    fig, axes = plt.subplots(nrows=n,ncols=n,figsize=(9,5))\n",
    "    for ax_idx, ax in enumerate(fig.axes):\n",
    "        norm = mpl.colors.Normalize(vmin=0, vmax=1)\n",
    "        ax.imshow(np.atleast_2d(vectors[ax_idx]), aspect=7, cmap='rainbow', interpolation=None,norm=norm)\n",
    "        ax.set_xticks([]),ax.set_yticks([])\n",
    "        ax.set_xlabel(artists[ax_idx][0])\n",
    "    plt.savefig('figs/aggregrates_sample_trained.png',dpi=200,tight_layout=True)\n",
    "    plt.show()\n",
    "    plt.close()"
   ]
  },
  {
   "cell_type": "code",
   "execution_count": null,
   "metadata": {},
   "outputs": [],
   "source": [
    "plot_aggregates(aggregate_vectors,artistnames,n=4)"
   ]
  },
  {
   "cell_type": "code",
   "execution_count": null,
   "metadata": {},
   "outputs": [],
   "source": []
  },
  {
   "cell_type": "code",
   "execution_count": null,
   "metadata": {
    "executionInfo": {
     "elapsed": 136,
     "status": "ok",
     "timestamp": 1651784828485,
     "user": {
      "displayName": "Edward",
      "userId": "06390780441557377801"
     },
     "user_tz": 240
    },
    "id": "iLEPypzrAvi5"
   },
   "outputs": [],
   "source": [
    "# Query Image Removal Function\n",
    "def query_image_remover(qi_vec, avg_vec, artnum):\n",
    "    new_vec = (tf.math.subtract(avg_vec,  qi_vec * (1/artnum)) * (artnum/(artnum-1)))\n",
    "    return new_vec"
   ]
  },
  {
   "cell_type": "code",
   "execution_count": null,
   "metadata": {},
   "outputs": [],
   "source": []
  },
  {
   "cell_type": "code",
   "execution_count": null,
   "metadata": {},
   "outputs": [],
   "source": []
  }
 ],
 "metadata": {
  "colab": {
   "name": "make_vectors.ipynb",
   "provenance": []
  },
  "kernelspec": {
   "display_name": "Python 3",
   "language": "python",
   "name": "python3"
  },
  "language_info": {
   "codemirror_mode": {
    "name": "ipython",
    "version": 3
   },
   "file_extension": ".py",
   "mimetype": "text/x-python",
   "name": "python",
   "nbconvert_exporter": "python",
   "pygments_lexer": "ipython3",
   "version": "3.8.5"
  }
 },
 "nbformat": 4,
 "nbformat_minor": 4
}
