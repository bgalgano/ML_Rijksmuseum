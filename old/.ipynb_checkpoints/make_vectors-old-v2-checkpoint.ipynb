{
 "cells": [
  {
   "cell_type": "markdown",
   "metadata": {
    "id": "_CQoTKaPKpVE"
   },
   "source": [
    "Generate encoded vectors for both query and artist aggregrate images"
   ]
  },
  {
   "cell_type": "code",
   "execution_count": 86,
   "metadata": {
    "id": "QNV-EKWPKpVG"
   },
   "outputs": [],
   "source": [
    "import read_rijksdata\n",
    "import pandas as pd\n",
    "import numpy as np\n",
    "import tensorflow as tf\n",
    "\n",
    "import matplotlib.pylab as plt\n",
    "import matplotlib as mpl\n",
    "MIN_NUM_ARTWORK = 300\n"
   ]
  },
  {
   "cell_type": "code",
   "execution_count": 2,
   "metadata": {
    "id": "cPuvAGpNKpVH",
    "outputId": "21239034-94ec-4ff9-941f-bf54816ed163"
   },
   "outputs": [],
   "source": [
    "# LOAD IMAGE AND LABELS HERE\n",
    "# replace for your path here!\n",
    "img_folder = '/Users/erebor/Downloads/out_img'\n",
    "\n",
    "images, labels_onehot, labels, names, = read_rijksdata.load_data(MIN_NUM_ARTWORK=MIN_NUM_ARTWORK,\n",
    "                                                 img_folder = img_folder,\n",
    "                                                 labels_file ='labels.txt',\n",
    "                                                 names_file = 'names.txt')"
   ]
  },
  {
   "cell_type": "code",
   "execution_count": 125,
   "metadata": {
    "id": "cPuvAGpNKpVH",
    "outputId": "21239034-94ec-4ff9-941f-bf54816ed163"
   },
   "outputs": [
    {
     "name": "stdout",
     "output_type": "stream",
     "text": [
      "\n",
      "# of classes: 50\n",
      "Min # of artworks for all artists: 303\n",
      "Min # of artworks specified: 300\n"
     ]
    }
   ],
   "source": [
    "classes = len(list(set(labels)))\n",
    "print('\\n# of classes:',classes)\n",
    "D = 25\n",
    "\n",
    "counts = pd.DataFrame(labels).value_counts()\n",
    "print('Min # of artworks for all artists:',min(counts))\n",
    "print('Min # of artworks specified:',MIN_NUM_ARTWORK)"
   ]
  },
  {
   "cell_type": "code",
   "execution_count": 126,
   "metadata": {
    "id": "emVEhfBlKpVI"
   },
   "outputs": [],
   "source": [
    "# LOAD PRE-TRAINED ENCODER\n",
    "# get base pre-trained model first\n",
    "# more models are available here: https://www.tensorflow.org/api_docs/python/tf/keras/applications\n",
    "\n",
    "# define hyperparameters\n",
    "# define image size \n",
    "input_shape = (56,56,3)\n",
    "\n",
    "# define number of classes\n",
    "# ****THIS sets the number of dimensions of the encoded vector (\"D\") in Mark's email***\n",
    "# we'll probably want adjust this to be smaller or larger (depending on training results)\n",
    "# for now, classes are just the number of unique artist\n",
    "classes = len(list(set(labels)))\n",
    "enet_kwargs = {'include_top':False,\n",
    "               'weights':'imagenet',\n",
    "               'input_tensor':None,\n",
    "               'input_shape':input_shape,\n",
    "               'pooling':None,\n",
    "               'classes':D,\n",
    "               'classifier_activation':'softmax'}\n",
    "enet_base = tf.keras.applications.efficientnet.EfficientNetB7(**enet_kwargs)\n",
    "\n",
    "# set that the encoder DOES NOT train on the images\n",
    "enet_base.trainable = False\n",
    "\n",
    "# set pre-trained model as base\n",
    "enet = tf.keras.models.Sequential()\n",
    "enet.add(enet_base)\n",
    "\n",
    "# add two final top layers\n",
    "enet.add(tf.keras.layers.GlobalMaxPooling2D())\n",
    "enet.add(tf.keras.layers.Dense(classes, activation=\"softmax\")) # last (top) layer of network"
   ]
  },
  {
   "cell_type": "code",
   "execution_count": 127,
   "metadata": {
    "id": "Fe9On_u5KpVI",
    "outputId": "db80e953-37f0-4269-ce5e-0086840332d3"
   },
   "outputs": [
    {
     "name": "stdout",
     "output_type": "stream",
     "text": [
      "Model: \"sequential_2\"\n",
      "_________________________________________________________________\n",
      "Layer (type)                 Output Shape              Param #   \n",
      "=================================================================\n",
      "efficientnetb7 (Functional)  (None, 2, 2, 2560)        64097687  \n",
      "_________________________________________________________________\n",
      "global_max_pooling2d_2 (Glob (None, 2560)              0         \n",
      "_________________________________________________________________\n",
      "dense_2 (Dense)              (None, 50)                128050    \n",
      "=================================================================\n",
      "Total params: 64,225,737\n",
      "Trainable params: 128,050\n",
      "Non-trainable params: 64,097,687\n",
      "_________________________________________________________________\n"
     ]
    }
   ],
   "source": [
    "enet.summary()"
   ]
  },
  {
   "cell_type": "raw",
   "metadata": {
    "id": "eH6AyaOkKpVJ"
   },
   "source": [
    "# to generate vectors, just ask model to predict with the current loaded pre-trained model\n",
    "# to generate a vector for a single image:\n",
    "vector = enet.predict(image) # 1-D vector is of length \"D\"\n",
    "\n",
    "\n",
    "# load K number of artworks belong to an artist as a 4D array (K,length,width,channels)\n",
    "images =\n",
    "\n",
    "\n",
    "# iterate through artist's works to generate an aggregate vector\n",
    "vector_arr = []\n",
    "for image in images:\n",
    "    # vector is 1-D with length \"D\"\n",
    "    vector = enet.predict(image)\n",
    "    vector_arr.append(vector)\n",
    "    \n",
    "# not sure if this line is right, but something like this:\n",
    "# should go back to 1-D vector with length \"D\", e.g. \"classes\"\n",
    "vector_aggregate = np.mean(vector_arr,axis=0)"
   ]
  },
  {
   "cell_type": "code",
   "execution_count": 102,
   "metadata": {},
   "outputs": [
    {
     "data": {
      "text/plain": [
       "(29703, 56, 56, 3)"
      ]
     },
     "execution_count": 102,
     "metadata": {},
     "output_type": "execute_result"
    }
   ],
   "source": [
    "images.shape"
   ]
  },
  {
   "cell_type": "code",
   "execution_count": 103,
   "metadata": {},
   "outputs": [],
   "source": [
    "images_sigmoid = tf.image.per_image_standardization(images)\n"
   ]
  },
  {
   "cell_type": "code",
   "execution_count": 105,
   "metadata": {},
   "outputs": [
    {
     "data": {
      "text/plain": [
       "TensorShape([29703, 56, 56, 3])"
      ]
     },
     "execution_count": 105,
     "metadata": {},
     "output_type": "execute_result"
    }
   ],
   "source": [
    "images_sigmoid.shape"
   ]
  },
  {
   "cell_type": "code",
   "execution_count": 106,
   "metadata": {
    "id": "5bUIq4OgKpVJ"
   },
   "outputs": [
    {
     "name": "stdout",
     "output_type": "stream",
     "text": [
      "929/929 [==============================] - 295s 317ms/step\n"
     ]
    }
   ],
   "source": [
    "# Create encoded tensors for all \n",
    "encoded_arts = enet.predict(images_sigmoid,verbose=1)"
   ]
  },
  {
   "cell_type": "code",
   "execution_count": 107,
   "metadata": {},
   "outputs": [
    {
     "data": {
      "text/plain": [
       "(29703, 50)"
      ]
     },
     "execution_count": 107,
     "metadata": {},
     "output_type": "execute_result"
    }
   ],
   "source": [
    "encoded_arts.shape"
   ]
  },
  {
   "cell_type": "code",
   "execution_count": 108,
   "metadata": {
    "id": "5bUIq4OgKpVJ"
   },
   "outputs": [],
   "source": [
    "# Count how many pieces each artist has\n",
    "total_bc = np.bincount(labels) # get count of artists\n",
    "artcounts = total_bc[np.unique(labels)]\n",
    "artistnames = names[np.unique(labels)]"
   ]
  },
  {
   "cell_type": "code",
   "execution_count": 109,
   "metadata": {
    "id": "sDjJtZGYKpVJ"
   },
   "outputs": [],
   "source": [
    "# Create aggregate vectors\n",
    "aggregate_vectors = []\n",
    "for i in range(len(artcounts)):\n",
    "    artistnum = np.unique(labels)[i] #Gets the number that represents this artist from labels\n",
    "    artistname = artistnames[i]\n",
    "    artcount = artcounts[i] #Gets number of art pieces by this artist\n",
    "    \n",
    "    #print(artistname,artistnum,artcount)\n",
    "    \n",
    "    artistaddr = np.where(labels == artistnum) #Collects indices of this artist's art\n",
    "    \n",
    "    artist_vector = np.mean(encoded_arts[artistaddr],axis=0)\n",
    "    aggregate_vectors.append(artist_vector)\n",
    "      \n",
    "aggregate_vectors = np.array(aggregate_vectors)"
   ]
  },
  {
   "cell_type": "code",
   "execution_count": null,
   "metadata": {},
   "outputs": [],
   "source": []
  },
  {
   "cell_type": "code",
   "execution_count": null,
   "metadata": {},
   "outputs": [],
   "source": []
  },
  {
   "cell_type": "code",
   "execution_count": 119,
   "metadata": {},
   "outputs": [],
   "source": [
    "def plot_aggregates(aggregate_vectors,artistnames,n=3):\n",
    "    idx = list(range(aggregate_vectors.shape[0]))\n",
    "    idxs = np.random.choice(a=idx,size=n*n)\n",
    "    vectors = aggregate_vectors[idxs]\n",
    "    artists = artistnames[idxs]\n",
    "    \n",
    "    fig, axes = plt.subplots(nrows=n,ncols=n,figsize=(9,5))\n",
    "    for ax_idx, ax in enumerate(fig.axes):\n",
    "        print(tf.math.sigmoid(vectors[ax_idx]))\n",
    "        norm = mpl.colors.Normalize(vmin=0.4, vmax=0.6)\n",
    "        ax.imshow(np.atleast_2d(vectors[ax_idx]), aspect=6, cmap='rainbow', interpolation=None)\n",
    "        ax.set_xticks([]),ax.set_yticks([])\n",
    "        ax.set_xlabel(artists[ax_idx][0])\n",
    "    plt.show()\n",
    "    plt.close()"
   ]
  },
  {
   "cell_type": "code",
   "execution_count": 120,
   "metadata": {},
   "outputs": [
    {
     "name": "stdout",
     "output_type": "stream",
     "text": [
      "tf.Tensor(\n",
      "[0.5162983  0.5004362  0.5017525  0.50144094 0.50076646 0.5026165\n",
      " 0.5033425  0.5124377  0.5013826  0.50456214 0.5001502  0.503385\n",
      " 0.50311095 0.50268847 0.5008692  0.50701684 0.50230783 0.50267667\n",
      " 0.5019707  0.5125328  0.50255114 0.502542   0.504733   0.50019544\n",
      " 0.5032748  0.50325984 0.52563447 0.5096151  0.5015813  0.50024676\n",
      " 0.50125927 0.50093776 0.50086355 0.50089115 0.5074343  0.5021509\n",
      " 0.5283349  0.5032432  0.511032   0.5062072  0.520164   0.50033134\n",
      " 0.5075453  0.5001171  0.5032495  0.50164324 0.5181525  0.5004334\n",
      " 0.5004561  0.5000865 ], shape=(50,), dtype=float32)\n",
      "tf.Tensor(\n",
      "[0.5199629  0.50037146 0.505462   0.5028139  0.5021163  0.50256574\n",
      " 0.5041097  0.5144372  0.50163215 0.5030534  0.5001308  0.50586754\n",
      " 0.5010932  0.5045019  0.5008544  0.5114421  0.50346935 0.5009225\n",
      " 0.50077474 0.5095759  0.50231445 0.5059254  0.5038768  0.5002209\n",
      " 0.503003   0.5037367  0.51121444 0.5044406  0.50191176 0.50024533\n",
      " 0.50230247 0.50083053 0.5006433  0.5017511  0.5076593  0.5017732\n",
      " 0.5227026  0.50177073 0.5195365  0.5065181  0.5162876  0.50049955\n",
      " 0.51379764 0.50013405 0.50516826 0.50547796 0.51049304 0.5002459\n",
      " 0.5002646  0.50003785], shape=(50,), dtype=float32)\n",
      "tf.Tensor(\n",
      "[0.51713103 0.50041133 0.50225616 0.5042065  0.5023153  0.50198495\n",
      " 0.5046469  0.51289606 0.500498   0.5046677  0.500129   0.50643957\n",
      " 0.50236535 0.50518346 0.5005635  0.50671417 0.5026419  0.5015543\n",
      " 0.50091815 0.5094432  0.50257075 0.50701565 0.5030907  0.5004892\n",
      " 0.50425744 0.5032185  0.5176829  0.5122618  0.5015063  0.500264\n",
      " 0.5014695  0.50092494 0.50075334 0.5007526  0.5060134  0.5018074\n",
      " 0.53324836 0.5024347  0.5109426  0.5060639  0.51829547 0.5003737\n",
      " 0.5091254  0.5001846  0.50303286 0.503561   0.51094544 0.500335\n",
      " 0.50028473 0.5000422 ], shape=(50,), dtype=float32)\n",
      "tf.Tensor(\n",
      "[0.51723725 0.50065124 0.5041526  0.5024158  0.5012068  0.5035669\n",
      " 0.5040226  0.5121679  0.50120354 0.50706565 0.50019944 0.50280225\n",
      " 0.5018109  0.50496554 0.5004922  0.511566   0.50277376 0.5009087\n",
      " 0.50082475 0.50877947 0.5045451  0.5031183  0.5039706  0.50058806\n",
      " 0.50373113 0.5018463  0.5123516  0.508362   0.5017489  0.50031185\n",
      " 0.50320035 0.50116414 0.5013965  0.50282115 0.51285636 0.5008089\n",
      " 0.5141676  0.50202686 0.51568353 0.5093079  0.51321906 0.500291\n",
      " 0.5142397  0.50055766 0.50454026 0.50300235 0.52015847 0.5006537\n",
      " 0.5004023  0.50006723], shape=(50,), dtype=float32)\n",
      "tf.Tensor(\n",
      "[0.5276944  0.5002848  0.50353885 0.5053945  0.502785   0.50237304\n",
      " 0.50422156 0.5088089  0.500933   0.5038172  0.5001034  0.50566214\n",
      " 0.50175536 0.5075348  0.5007602  0.50953996 0.503515   0.50117475\n",
      " 0.5006792  0.50942945 0.50269836 0.51031667 0.50277966 0.5006383\n",
      " 0.50396997 0.5035183  0.51046526 0.5084599  0.5023966  0.5002288\n",
      " 0.5026205  0.50090533 0.50098455 0.50076544 0.5065482  0.5028265\n",
      " 0.52589774 0.5020767  0.51226133 0.5069317  0.5110015  0.5005257\n",
      " 0.50805545 0.50054705 0.50535667 0.50658035 0.5098997  0.5002681\n",
      " 0.5003592  0.50004256], shape=(50,), dtype=float32)\n",
      "tf.Tensor(\n",
      "[0.521629   0.5006372  0.50273377 0.50497055 0.5014234  0.50204116\n",
      " 0.50270957 0.51773894 0.5003717  0.5034397  0.5000467  0.50398684\n",
      " 0.5012677  0.5037905  0.5002918  0.51167727 0.50302005 0.501679\n",
      " 0.5008375  0.5106796  0.50241715 0.50592905 0.50457495 0.5001819\n",
      " 0.5046126  0.5022697  0.513941   0.5077847  0.5018885  0.5004995\n",
      " 0.5019089  0.5006102  0.5003127  0.50052965 0.50789386 0.5018311\n",
      " 0.5279066  0.501428   0.51526624 0.5031146  0.51985914 0.5001864\n",
      " 0.50459045 0.500278   0.50238436 0.5041689  0.51827276 0.5001861\n",
      " 0.5001023  0.5000154 ], shape=(50,), dtype=float32)\n",
      "tf.Tensor(\n",
      "[0.519759   0.50043267 0.5047745  0.50092363 0.50240135 0.5012394\n",
      " 0.5029031  0.51033455 0.5006199  0.50593597 0.50013053 0.50519896\n",
      " 0.5007926  0.504886   0.50049293 0.50995666 0.50632757 0.50182855\n",
      " 0.50065726 0.50869685 0.50307786 0.50432974 0.50684315 0.5003155\n",
      " 0.5033104  0.50330245 0.50911736 0.5077852  0.5017782  0.50013006\n",
      " 0.5029402  0.5017907  0.5006591  0.50076044 0.5118569  0.5016099\n",
      " 0.51569897 0.5010451  0.5225996  0.51083606 0.5164724  0.50030905\n",
      " 0.51103973 0.50014967 0.5019822  0.50303894 0.5177196  0.50049573\n",
      " 0.50059277 0.5000636 ], shape=(50,), dtype=float32)\n",
      "tf.Tensor(\n",
      "[0.51743525 0.50048095 0.5032194  0.50238705 0.5028793  0.5027365\n",
      " 0.50456005 0.50946105 0.5006847  0.5044383  0.5000576  0.50451964\n",
      " 0.5009226  0.50391376 0.5006625  0.512756   0.50594133 0.50206536\n",
      " 0.5006422  0.5067206  0.5036332  0.5051964  0.5070702  0.50059366\n",
      " 0.50304645 0.5037893  0.5089797  0.5080316  0.5030304  0.5001694\n",
      " 0.50273806 0.50099915 0.5003269  0.5005005  0.5123546  0.50109994\n",
      " 0.51400256 0.5015979  0.51794153 0.5102608  0.5177255  0.5006725\n",
      " 0.51653665 0.5007914  0.5019933  0.5050532  0.51435137 0.50061363\n",
      " 0.5003295  0.500039  ], shape=(50,), dtype=float32)\n",
      "tf.Tensor(\n",
      "[0.5276803  0.50115293 0.5020242  0.50074774 0.5005263  0.5015126\n",
      " 0.5015641  0.5310322  0.50057346 0.50276655 0.5000713  0.50967413\n",
      " 0.50136876 0.5027118  0.50048405 0.5065546  0.501568   0.50188446\n",
      " 0.5006202  0.5077628  0.5015764  0.5016011  0.5081532  0.50015366\n",
      " 0.50434345 0.5028305  0.5112595  0.5058193  0.50068927 0.50006753\n",
      " 0.50175    0.50063604 0.5001838  0.50051165 0.5064686  0.5021323\n",
      " 0.52580047 0.5017256  0.5185665  0.503957   0.520939   0.5000766\n",
      " 0.50504446 0.5000887  0.50168204 0.5017577  0.5189057  0.50028765\n",
      " 0.500569   0.50001603], shape=(50,), dtype=float32)\n",
      "tf.Tensor(\n",
      "[0.51182646 0.50146675 0.5028306  0.5043424  0.5046699  0.5035404\n",
      " 0.5062634  0.5053125  0.50349873 0.5064736  0.50122464 0.5030765\n",
      " 0.50423574 0.51048446 0.50169295 0.50339466 0.5028848  0.5017492\n",
      " 0.5021404  0.5132853  0.50342727 0.5048841  0.5017774  0.5019429\n",
      " 0.50626075 0.5057927  0.5170889  0.50966233 0.50297815 0.5014814\n",
      " 0.5027346  0.5022638  0.5038235  0.50159234 0.50478166 0.5029961\n",
      " 0.52783597 0.5036747  0.5072125  0.5046396  0.50956845 0.50179553\n",
      " 0.5060957  0.5017778  0.503543   0.50638914 0.5037285  0.5021856\n",
      " 0.5027979  0.5008252 ], shape=(50,), dtype=float32)\n",
      "tf.Tensor(\n",
      "[0.5178503  0.500515   0.5026503  0.50352216 0.502411   0.50205994\n",
      " 0.50543785 0.5106088  0.5009798  0.50503683 0.500179   0.5032895\n",
      " 0.50160897 0.5058133  0.5012395  0.5051794  0.5020323  0.5025752\n",
      " 0.5017948  0.5114643  0.50383526 0.5035862  0.50376374 0.5008267\n",
      " 0.5056361  0.50422513 0.5194975  0.5156529  0.5021627  0.50038344\n",
      " 0.502153   0.5011462  0.5014877  0.50069076 0.50585043 0.50135785\n",
      " 0.52778816 0.5032732  0.5129702  0.50450236 0.5184114  0.50048864\n",
      " 0.5059864  0.5005865  0.50149107 0.5051847  0.50935626 0.5005984\n",
      " 0.50066626 0.50012314], shape=(50,), dtype=float32)\n",
      "tf.Tensor(\n",
      "[0.5166614  0.5006426  0.50239885 0.50048393 0.50045377 0.50278294\n",
      " 0.5017386  0.5200268  0.5005242  0.50182205 0.5000513  0.50506496\n",
      " 0.50081193 0.5042723  0.500379   0.51083237 0.50299644 0.50227785\n",
      " 0.5005601  0.5067995  0.5037981  0.5017628  0.5121221  0.50008285\n",
      " 0.5044468  0.5021482  0.50960296 0.50677043 0.50164026 0.5000974\n",
      " 0.50162846 0.5005487  0.50064445 0.5005193  0.50689715 0.50097555\n",
      " 0.5260485  0.5012307  0.51989996 0.5068157  0.5209101  0.5000673\n",
      " 0.5131754  0.500095   0.5027231  0.5018004  0.520794   0.5007303\n",
      " 0.5003301  0.50002706], shape=(50,), dtype=float32)\n",
      "tf.Tensor(\n",
      "[0.5173846  0.5006522  0.50253725 0.5021812  0.5012569  0.50243324\n",
      " 0.50390923 0.5136404  0.5014901  0.5048757  0.5004152  0.50547177\n",
      " 0.503588   0.50359625 0.50201404 0.5041153  0.50328356 0.5018883\n",
      " 0.5019735  0.5104042  0.5025739  0.5018322  0.50514996 0.5005104\n",
      " 0.50446516 0.5040741  0.5184806  0.5149866  0.5013448  0.5004715\n",
      " 0.5015192  0.50088984 0.5017003  0.50058997 0.5098896  0.502559\n",
      " 0.52453357 0.50328386 0.5129225  0.50390315 0.5173346  0.50044507\n",
      " 0.5087038  0.5005314  0.50189435 0.50174975 0.51443756 0.5006377\n",
      " 0.5012585  0.50015414], shape=(50,), dtype=float32)\n",
      "tf.Tensor(\n",
      "[0.52022743 0.50055164 0.5017817  0.5031729  0.5025295  0.50222987\n",
      " 0.504503   0.5109623  0.5013172  0.50421584 0.50024116 0.50267357\n",
      " 0.50323135 0.50434005 0.50125474 0.5036012  0.50127625 0.5016072\n",
      " 0.5020628  0.5106623  0.5025415  0.5066384  0.50285935 0.50085884\n",
      " 0.5056484  0.50492275 0.52412957 0.51147646 0.5015438  0.500651\n",
      " 0.50204873 0.5008644  0.50201935 0.5005199  0.50515133 0.5020776\n",
      " 0.53122514 0.5038638  0.50852895 0.5048668  0.5258682  0.50050634\n",
      " 0.504878   0.5005725  0.5015504  0.50215673 0.5075581  0.5007575\n",
      " 0.5009995  0.5001725 ], shape=(50,), dtype=float32)\n",
      "tf.Tensor(\n",
      "[0.5180511  0.5007396  0.5035366  0.50286454 0.50311214 0.5030265\n",
      " 0.5065972  0.50797164 0.5011915  0.5045783  0.5002687  0.50333387\n",
      " 0.50121367 0.5110303  0.50131106 0.5028406  0.5024575  0.5009512\n",
      " 0.5009653  0.5116267  0.5035435  0.5118993  0.5028267  0.5014121\n",
      " 0.50465846 0.5021486  0.51908696 0.5154246  0.5022568  0.50043964\n",
      " 0.5044061  0.5011856  0.5012694  0.5004194  0.5073458  0.5015923\n",
      " 0.52154696 0.50377876 0.50805616 0.50600374 0.5213083  0.5005268\n",
      " 0.5018268  0.5007357  0.5029328  0.50468063 0.50864977 0.5007066\n",
      " 0.5010017  0.50060314], shape=(50,), dtype=float32)\n",
      "tf.Tensor(\n",
      "[0.5217204  0.50028306 0.5032123  0.5024109  0.50106186 0.50363433\n",
      " 0.50228524 0.5165433  0.50075823 0.5016549  0.5001323  0.5073017\n",
      " 0.5011611  0.50372225 0.50089425 0.50968236 0.50405455 0.50089\n",
      " 0.5004454  0.5110459  0.50315434 0.50459117 0.50482416 0.5000956\n",
      " 0.50285584 0.5023081  0.5097477  0.50725013 0.5005511  0.500058\n",
      " 0.5021197  0.50113475 0.50075376 0.5003586  0.5087286  0.50210077\n",
      " 0.5276774  0.501475   0.5187286  0.50737095 0.5123259  0.5002153\n",
      " 0.5138897  0.50027883 0.50419796 0.50315034 0.5168157  0.50012696\n",
      " 0.5001321  0.50001186], shape=(50,), dtype=float32)\n"
     ]
    },
    {
     "data": {
      "image/png": "[encoded data removed]",
      "text/plain": [
       "<Figure size 648x360 with 16 Axes>"
      ]
     },
     "metadata": {},
     "output_type": "display_data"
    }
   ],
   "source": [
    "plot_aggregates(aggregate_vectors,artistnames,n=4)"
   ]
  },
  {
   "cell_type": "code",
   "execution_count": 11,
   "metadata": {
    "executionInfo": {
     "elapsed": 136,
     "status": "ok",
     "timestamp": 1651784828485,
     "user": {
      "displayName": "Edward",
      "userId": "06390780441557377801"
     },
     "user_tz": 240
    },
    "id": "iLEPypzrAvi5"
   },
   "outputs": [],
   "source": [
    "# Query Image Removal Function\n",
    "def query_image_remover(qi_vec, avg_vec, artnum):\n",
    "    new_vec = (tf.math.subtract(avg_vec,  qi_vec * (1/artnum)) * (artnum/(artnum-1)))\n",
    "    return new_vec"
   ]
  },
  {
   "cell_type": "code",
   "execution_count": null,
   "metadata": {},
   "outputs": [],
   "source": []
  }
 ],
 "metadata": {
  "colab": {
   "name": "make_vectors.ipynb",
   "provenance": []
  },
  "kernelspec": {
   "display_name": "Python 3",
   "language": "python",
   "name": "python3"
  },
  "language_info": {
   "codemirror_mode": {
    "name": "ipython",
    "version": 3
   },
   "file_extension": ".py",
   "mimetype": "text/x-python",
   "name": "python",
   "nbconvert_exporter": "python",
   "pygments_lexer": "ipython3",
   "version": "3.8.5"
  }
 },
 "nbformat": 4,
 "nbformat_minor": 4
}
