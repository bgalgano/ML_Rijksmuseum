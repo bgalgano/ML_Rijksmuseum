{
 "cells": [
  {
   "cell_type": "code",
   "execution_count": 1,
   "metadata": {},
   "outputs": [
    {
     "name": "stderr",
     "output_type": "stream",
     "text": [
      "/opt/anaconda3/lib/python3.8/site-packages/tensorflow_addons/utils/ensure_tf_install.py:53: UserWarning: Tensorflow Addons supports using Python ops for all Tensorflow versions above or equal to 2.6.0 and strictly below 2.9.0 (nightly versions are not supported). \n",
      " The versions of TensorFlow you are currently using is 2.4.1 and is not supported. \n",
      "Some things might work, some things might not.\n",
      "If you were to encounter a bug, do not file an issue.\n",
      "If you want to make sure you're using a tested and supported configuration, either change the TensorFlow version or the TensorFlow Addons's version. \n",
      "You can find the compatibility matrix in TensorFlow Addon's readme:\n",
      "https://github.com/tensorflow/addons\n",
      "  warnings.warn(\n"
     ]
    }
   ],
   "source": [
    "import tensorflow as tf\n",
    "from tensorflow import keras\n",
    "from tensorflow.keras import layers\n",
    "from tensorflow.keras import models\n",
    "from tensorflow.keras import layers\n",
    "\n",
    "import datetime\n",
    "import tensorflow_addons as tfa \n",
    "import pandas as pd\n",
    "import matplotlib.pylab as plt\n",
    "import numpy as np"
   ]
  },
  {
   "cell_type": "markdown",
   "metadata": {},
   "source": [
    "## Load data"
   ]
  },
  {
   "cell_type": "code",
   "execution_count": 2,
   "metadata": {},
   "outputs": [],
   "source": [
    "import read_rijksdata\n",
    "NUM = 10000 # NUMBER OF IMAGES TO USE\n",
    "MIN_ARTWORK_NUM = 10"
   ]
  },
  {
   "cell_type": "code",
   "execution_count": 5,
   "metadata": {},
   "outputs": [],
   "source": [
    "img_folder = '/Users/erebor/Downloads/out_img'"
   ]
  },
  {
   "cell_type": "code",
   "execution_count": 6,
   "metadata": {},
   "outputs": [
    {
     "name": "stdout",
     "output_type": "stream",
     "text": [
      " |███████████████████████████████████████-| 112038/112039 \r"
     ]
    }
   ],
   "source": [
    "X_train, Y_train, label_train, X_val, Y_val, label_val = read_rijksdata.load_data(img_folder=img_folder,\n",
    "                                                                                  labels_file='labels.txt', \n",
    "                                                                                  names_file='names.txt')"
   ]
  },
  {
   "cell_type": "code",
   "execution_count": 7,
   "metadata": {},
   "outputs": [],
   "source": [
    "if NUM:\n",
    "    X = X_train[:NUM,:,:,:]\n",
    "    Y = Y_train[:NUM]\n",
    "else:\n",
    "    X = X_train\n",
    "    Y = Y_train\n"
   ]
  },
  {
   "cell_type": "code",
   "execution_count": 8,
   "metadata": {},
   "outputs": [],
   "source": [
    "names = pd.read_csv('names.txt',delimiter = '/t',header=None,engine='python')\n",
    "counts = pd.DataFrame(Y).value_counts()\n",
    "min_counts = counts[counts>=MIN_ARTWORK_NUM]\n",
    "min_idx = [index[0] for index in min_counts.index.tolist()]\n",
    "\n",
    "min_mask_idx = []\n",
    "for i, Y_ in enumerate(Y):\n",
    "    if np.isin(Y_,min_idx):\n",
    "        min_mask_idx.append(i)"
   ]
  },
  {
   "cell_type": "code",
   "execution_count": 9,
   "metadata": {},
   "outputs": [],
   "source": [
    "X_ = X[min_mask_idx,:,:,:]\n",
    "Y_ = Y[min_mask_idx]"
   ]
  },
  {
   "cell_type": "code",
   "execution_count": null,
   "metadata": {},
   "outputs": [],
   "source": []
  },
  {
   "cell_type": "code",
   "execution_count": 10,
   "metadata": {},
   "outputs": [
    {
     "data": {
      "image/png": "[encoded data removed]",
      "text/plain": [
       "<Figure size 432x360 with 1 Axes>"
      ]
     },
     "metadata": {
      "needs_background": "light"
     },
     "output_type": "display_data"
    }
   ],
   "source": [
    "\n",
    "plt.figure(figsize=(6,5))\n",
    "plt.bar(x=list(range(len(counts))),height=list(counts),align='center',width=0.9)\n",
    "plt.xlabel('Artist Index')\n",
    "plt.ylabel('# of Artworks')\n",
    "plt.title('Artwork Number Distribution')\n",
    "\n",
    "plt.yscale('log')\n",
    "plt.axhline(10)\n",
    "plt.show()"
   ]
  },
  {
   "cell_type": "code",
   "execution_count": 15,
   "metadata": {},
   "outputs": [
    {
     "name": "stdout",
     "output_type": "stream",
     "text": [
      "# of classes: 207\n",
      "Min # of artworks for all artists: 10\n",
      "Min # of artworks specified: 10\n",
      "X shape: (5843, 56, 56, 3)\n",
      "Y shape: (5843,)\n"
     ]
    }
   ],
   "source": [
    "classes = len(list(set(Y_)))\n",
    "print('# of classes:',classes)\n",
    "\n",
    "counts = pd.DataFrame(Y_).value_counts()\n",
    "print('Min # of artworks for all artists:',min(counts))\n",
    "print('Min # of artworks specified:',MIN_ARTWORK_NUM)\n",
    "\n",
    "print('X shape:',X_.shape)\n",
    "print('Y shape:',Y_.shape)\n"
   ]
  },
  {
   "cell_type": "code",
   "execution_count": 17,
   "metadata": {},
   "outputs": [],
   "source": [
    "classes = len(list(set(Y_)))\n",
    "Y_hot = tf.one_hot(indices=Y_,depth=classes)\n",
    "#Y_val = tf.one_hot(indices=Y_val,depth=classes)"
   ]
  },
  {
   "cell_type": "markdown",
   "metadata": {},
   "source": [
    "## Download and compile model"
   ]
  },
  {
   "cell_type": "code",
   "execution_count": 34,
   "metadata": {},
   "outputs": [],
   "source": [
    "input_shape = (56,56,3)\n",
    "enet_kwargs = {'include_top':False,\n",
    "               'weights':'imagenet',\n",
    "               'input_tensor':None,\n",
    "               'input_shape':input_shape,\n",
    "               'pooling':None,\n",
    "               'classes':1,\n",
    "               'classifier_activation':'softmax'}\n",
    "enet_base = tf.keras.applications.efficientnet.EfficientNetB0(**enet_kwargs)\n",
    "#enet_base.trainable = False"
   ]
  },
  {
   "cell_type": "code",
   "execution_count": 35,
   "metadata": {},
   "outputs": [],
   "source": [
    "enet = tf.keras.models.Sequential()\n",
    "enet.add(enet_base)\n",
    "enet.add(tf.keras.layers.GlobalMaxPooling2D())\n",
    "enet.add(tf.keras.layers.Dropout(rate=0.01))\n",
    "enet.add(tf.keras.layers.Dense(classes, activation=\"softmax\"))"
   ]
  },
  {
   "cell_type": "code",
   "execution_count": 36,
   "metadata": {},
   "outputs": [
    {
     "name": "stdout",
     "output_type": "stream",
     "text": [
      "Model: \"sequential_2\"\n",
      "_________________________________________________________________\n",
      "Layer (type)                 Output Shape              Param #   \n",
      "=================================================================\n",
      "efficientnetb0 (Functional)  (None, 2, 2, 1280)        4049571   \n",
      "_________________________________________________________________\n",
      "global_max_pooling2d_2 (Glob (None, 1280)              0         \n",
      "_________________________________________________________________\n",
      "dense_2 (Dense)              (None, 207)               265167    \n",
      "=================================================================\n",
      "Total params: 4,314,738\n",
      "Trainable params: 4,272,715\n",
      "Non-trainable params: 42,023\n",
      "_________________________________________________________________\n"
     ]
    }
   ],
   "source": [
    "enet.summary()"
   ]
  },
  {
   "cell_type": "code",
   "execution_count": 37,
   "metadata": {},
   "outputs": [],
   "source": [
    "# loss function\n",
    "loss = tf.keras.losses.CategoricalCrossentropy(from_logits=False,label_smoothing=0.0,name='categorical_crossentropy')\n",
    "\n",
    "# metrics\n",
    "\n",
    "TopKs = []\n",
    "for k in [1,5]:\n",
    "    TopK = tf.keras.metrics.TopKCategoricalAccuracy(k=k, name='top_{}'.format(k))\n",
    "    TopKs.append(TopK)\n",
    "metrics = [\"acc\"]\n",
    "metrics.extend(TopKs)\n",
    "\n",
    "f1 = tfa.metrics.F1Score(num_classes=classes, threshold=0.05)\n",
    "metrics.append(f1)\n",
    "\n",
    "# Optimizer\n",
    "# very average Adam settings\n",
    "optimizer = tf.keras.optimizers.Adam(learning_rate=0.0001)\n",
    "\n",
    "# compile it all\n",
    "enet.compile(\n",
    "    loss=loss,\n",
    "    optimizer=optimizer,\n",
    "    metrics=metrics)"
   ]
  },
  {
   "cell_type": "markdown",
   "metadata": {},
   "source": [
    "## Train model"
   ]
  },
  {
   "cell_type": "code",
   "execution_count": 38,
   "metadata": {},
   "outputs": [
    {
     "name": "stdout",
     "output_type": "stream",
     "text": [
      "(5843, 56, 56, 3) <class 'numpy.ndarray'>\n",
      "(5843, 207) <class 'tensorflow.python.framework.ops.EagerTensor'>\n"
     ]
    }
   ],
   "source": [
    "print(X_.shape, type(X))\n",
    "print(Y_hot.shape, type(Y_hot))"
   ]
  },
  {
   "cell_type": "code",
   "execution_count": 39,
   "metadata": {},
   "outputs": [
    {
     "name": "stdout",
     "output_type": "stream",
     "text": [
      "Epoch 1/5\n",
      "147/147 [==============================] - 37s 217ms/step - loss: 0.0907 - acc: 0.0017 - top_1: 0.0017 - top_5: 0.0054 - f1_score: 1.3771e-04 - val_loss: 0.1087 - val_acc: 0.0000e+00 - val_top_1: 0.0000e+00 - val_top_5: 0.0000e+00 - val_f1_score: 0.0000e+00\n",
      "Epoch 2/5\n",
      "147/147 [==============================] - 28s 193ms/step - loss: 0.0658 - acc: 0.0064 - top_1: 0.0064 - top_5: 0.0113 - f1_score: 1.3724e-04 - val_loss: 0.1013 - val_acc: 0.0000e+00 - val_top_1: 0.0000e+00 - val_top_5: 0.0026 - val_f1_score: 0.0000e+00\n",
      "Epoch 3/5\n",
      "147/147 [==============================] - 29s 200ms/step - loss: 0.0719 - acc: 0.0059 - top_1: 0.0059 - top_5: 0.0145 - f1_score: 2.0052e-04 - val_loss: 0.0989 - val_acc: 0.0026 - val_top_1: 0.0026 - val_top_5: 0.0068 - val_f1_score: 0.0000e+00\n",
      "Epoch 4/5\n",
      "147/147 [==============================] - 29s 194ms/step - loss: 0.0642 - acc: 0.0035 - top_1: 0.0035 - top_5: 0.0166 - f1_score: 1.7637e-04 - val_loss: 0.1020 - val_acc: 0.0026 - val_top_1: 0.0026 - val_top_5: 0.0026 - val_f1_score: 0.0000e+00\n",
      "Epoch 5/5\n",
      "147/147 [==============================] - 29s 195ms/step - loss: 0.0571 - acc: 0.0061 - top_1: 0.0061 - top_5: 0.0154 - f1_score: 7.3683e-05 - val_loss: 0.0968 - val_acc: 0.0026 - val_top_1: 0.0026 - val_top_5: 0.0026 - val_f1_score: 0.0000e+00\n"
     ]
    }
   ],
   "source": [
    "history = enet.fit(x=X_,y=Y_hot,validation_split=.20, epochs=5)"
   ]
  },
  {
   "cell_type": "code",
   "execution_count": 40,
   "metadata": {},
   "outputs": [
    {
     "name": "stdout",
     "output_type": "stream",
     "text": [
      "Saving to: ./checkpoints/enet_2022-04-28_18-01\n"
     ]
    }
   ],
   "source": [
    "# Save the weights\n",
    "checkpoint_time = '{date:%Y-%m-%d_%H-%M}'.format(date=datetime.datetime.now())\n",
    "\n",
    "save_file = './checkpoints/enet_{}'.format(checkpoint_time)\n",
    "print('Saving to:',save_file)\n",
    "enet.save_weights(save_file)"
   ]
  },
  {
   "cell_type": "code",
   "execution_count": 44,
   "metadata": {},
   "outputs": [],
   "source": [
    "enet.save('models/enet.h5')"
   ]
  },
  {
   "cell_type": "markdown",
   "metadata": {},
   "source": [
    "## Re-load model and evaluation"
   ]
  },
  {
   "cell_type": "code",
   "execution_count": 45,
   "metadata": {},
   "outputs": [],
   "source": [
    "reconstructed_model = keras.models.load_model('models/enet.h5')\n"
   ]
  },
  {
   "cell_type": "code",
   "execution_count": 47,
   "metadata": {},
   "outputs": [],
   "source": [
    "allgood = np.testing.assert_allclose(enet.predict(X_), reconstructed_model.predict(X_))"
   ]
  },
  {
   "cell_type": "code",
   "execution_count": 49,
   "metadata": {},
   "outputs": [
    {
     "name": "stdout",
     "output_type": "stream",
     "text": [
      "None\n"
     ]
    }
   ],
   "source": [
    "print(allgood)"
   ]
  },
  {
   "cell_type": "code",
   "execution_count": null,
   "metadata": {},
   "outputs": [],
   "source": [
    "from sklearn.preprocessing import label_binarize\n",
    "from sklearn.metrics import roc_curve, auc\n",
    "from sklearn.metrics import roc_auc_score\n",
    "from sklearn.metrics import confusion_matrix\n",
    "\n",
    "confusion_matrix = sklearn.metrics.confusion_matrix(y_true=Y, y_pred=y_pred, labels=None)"
   ]
  },
  {
   "cell_type": "code",
   "execution_count": null,
   "metadata": {},
   "outputs": [],
   "source": []
  },
  {
   "cell_type": "code",
   "execution_count": null,
   "metadata": {},
   "outputs": [],
   "source": [
    "fpr = dict()\n",
    "tpr = dict()\n",
    "roc_auc = dict()\n",
    "for i in range(classes):\n",
    "    fpr[i], tpr[i], _ = roc_curve(Y_train, y_pred)\n",
    "    roc_auc[i] = auc(fpr[i], tpr[i])"
   ]
  },
  {
   "cell_type": "code",
   "execution_count": null,
   "metadata": {},
   "outputs": [],
   "source": []
  }
 ],
 "metadata": {
  "kernelspec": {
   "display_name": "Python 3",
   "language": "python",
   "name": "python3"
  },
  "language_info": {
   "codemirror_mode": {
    "name": "ipython",
    "version": 3
   },
   "file_extension": ".py",
   "mimetype": "text/x-python",
   "name": "python",
   "nbconvert_exporter": "python",
   "pygments_lexer": "ipython3",
   "version": "3.8.5"
  }
 },
 "nbformat": 4,
 "nbformat_minor": 4
}
