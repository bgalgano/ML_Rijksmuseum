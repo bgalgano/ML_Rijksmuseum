{
 "cells": [
  {
   "cell_type": "code",
   "execution_count": 38,
   "metadata": {},
   "outputs": [],
   "source": [
    "import tensorflow as tf\n",
    "from tensorflow import keras\n",
    "from tensorflow.keras import layers\n",
    "from tensorflow.keras import models\n",
    "from tensorflow.keras import layers\n",
    "\n",
    "import datetime\n",
    "import tensorflow_addons as tfa \n",
    "import pandas as pd\n",
    "import matplotlib.pylab as plt\n",
    "import numpy as np"
   ]
  },
  {
   "cell_type": "markdown",
   "metadata": {},
   "source": [
    "## Load data"
   ]
  },
  {
   "cell_type": "code",
   "execution_count": 39,
   "metadata": {},
   "outputs": [],
   "source": [
    "import read_rijksdata\n",
    "MIN_NUM_ARTWORK = 50"
   ]
  },
  {
   "cell_type": "code",
   "execution_count": null,
   "metadata": {},
   "outputs": [],
   "source": [
    "64697*0.20"
   ]
  },
  {
   "cell_type": "code",
   "execution_count": 42,
   "metadata": {},
   "outputs": [],
   "source": [
    "img_folder = '/Users/erebor/Downloads/out_img'"
   ]
  },
  {
   "cell_type": "code",
   "execution_count": 43,
   "metadata": {},
   "outputs": [
    {
     "name": "stdout",
     "output_type": "stream",
     "text": [
      "Loading 112039 artworks...\n",
      " |███████████████████████████████████████-| 112038/112039 \n",
      "\n",
      "Throwing away artwork with no artist...\n",
      "\n",
      "Filtering for artists with at least 50 artworks...\n",
      " |████████████████████████████████████████| 6622/6622 \n",
      "\n",
      "Dataset loaded!\n",
      "images shape: (64697, 56, 56, 3)\n",
      "labels shape: (64697,)\n",
      "labels (one-hot): (64697, 366)\n",
      "names shape: (64697, 1)\n"
     ]
    }
   ],
   "source": [
    "images, labels_onehot, labels, names = read_rijksdata.load_data(MIN_NUM_ARTWORK=MIN_NUM_ARTWORK,\n",
    "                                                 img_folder =img_folder,\n",
    "                                                 labels_file='labels.txt',\n",
    "                                                 names_file='names.txt')"
   ]
  },
  {
   "cell_type": "code",
   "execution_count": 44,
   "metadata": {},
   "outputs": [
    {
     "name": "stdout",
     "output_type": "stream",
     "text": [
      "# of classes: 366\n",
      "Min # of artworks for all artists: 50\n",
      "Min # of artworks specified: 50\n"
     ]
    }
   ],
   "source": [
    "classes = len(list(set(labels)))\n",
    "print('# of classes:',classes)\n",
    "\n",
    "counts = pd.DataFrame(labels).value_counts()\n",
    "print('Min # of artworks for all artists:',min(counts))\n",
    "print('Min # of artworks specified:',MIN_NUM_ARTWORK)"
   ]
  },
  {
   "cell_type": "markdown",
   "metadata": {},
   "source": [
    "## Download and compile model"
   ]
  },
  {
   "cell_type": "code",
   "execution_count": 92,
   "metadata": {},
   "outputs": [],
   "source": [
    "input_shape = (56,56,3)\n",
    "enet_kwargs = {'include_top':False,\n",
    "               'weights':'imagenet',\n",
    "               'input_tensor':None,\n",
    "               'input_shape':input_shape,\n",
    "               'pooling':None,\n",
    "               'classes':classes,\n",
    "               'classifier_activation':'softmax'}\n",
    "enet_base = tf.keras.applications.efficientnet.EfficientNetB7(**enet_kwargs)\n",
    "#enet_base.trainable = False"
   ]
  },
  {
   "cell_type": "code",
   "execution_count": 93,
   "metadata": {},
   "outputs": [],
   "source": [
    "enet = tf.keras.models.Sequential()\n",
    "enet.add(enet_base)\n",
    "enet.add(tf.keras.layers.GlobalMaxPooling2D())\n",
    "enet.add(tf.keras.layers.Dropout(rate=0.2))\n",
    "enet.add(tf.keras.layers.Dense(classes, activation=\"softmax\"))"
   ]
  },
  {
   "cell_type": "code",
   "execution_count": 94,
   "metadata": {},
   "outputs": [
    {
     "name": "stdout",
     "output_type": "stream",
     "text": [
      "Model: \"sequential_13\"\n",
      "_________________________________________________________________\n",
      "Layer (type)                 Output Shape              Param #   \n",
      "=================================================================\n",
      "efficientnetb7 (Functional)  (None, 2, 2, 2560)        64097687  \n",
      "_________________________________________________________________\n",
      "global_max_pooling2d_13 (Glo (None, 2560)              0         \n",
      "_________________________________________________________________\n",
      "dropout_5 (Dropout)          (None, 2560)              0         \n",
      "_________________________________________________________________\n",
      "dense_12 (Dense)             (None, 366)               937326    \n",
      "=================================================================\n",
      "Total params: 65,035,013\n",
      "Trainable params: 64,724,286\n",
      "Non-trainable params: 310,727\n",
      "_________________________________________________________________\n"
     ]
    }
   ],
   "source": [
    "enet.summary()"
   ]
  },
  {
   "cell_type": "code",
   "execution_count": 95,
   "metadata": {},
   "outputs": [],
   "source": [
    "# loss function\n",
    "loss = tf.keras.losses.CategoricalCrossentropy(from_logits=False,\n",
    "                                               label_smoothing=0.0,\n",
    "                                               name='categorical_crossentropy')\n",
    "\n",
    "# metrics\n",
    "\n",
    "TopKs = []\n",
    "for k in [1,5,10,20]:\n",
    "    TopK = tf.keras.metrics.TopKCategoricalAccuracy(k=k, name='top_{}'.format(k))\n",
    "    TopKs.append(TopK)\n",
    "metrics = [\"acc\"]\n",
    "metrics.extend(TopKs)\n",
    "\n",
    "f1 = tfa.metrics.F1Score(num_classes=classes, threshold=0.5)\n",
    "metrics.append(f1)\n",
    "\n",
    "# Optimizer\n",
    "# very average Adam settings\n",
    "optimizer = tf.keras.optimizers.Adam(learning_rate=0.0001)\n",
    "#optimizer = tf.keras.optimizers.RMSprop(learning_rate=0.001)\n",
    "# compile it all\n",
    "enet.compile(\n",
    "    loss=loss,\n",
    "    optimizer=optimizer,\n",
    "    metrics=metrics)"
   ]
  },
  {
   "cell_type": "markdown",
   "metadata": {},
   "source": [
    "## Train model"
   ]
  },
  {
   "cell_type": "code",
   "execution_count": null,
   "metadata": {},
   "outputs": [
    {
     "name": "stdout",
     "output_type": "stream",
     "text": [
      "Epoch 1/5\n",
      "150/518 [=======>......................] - ETA: 37:05 - loss: 3.1329 - acc: 0.0018 - top_1: 0.0018 - top_5: 0.0119 - top_10: 0.0266 - top_20: 0.0469 - f1_score: 1.3912e-04"
     ]
    }
   ],
   "source": [
    "history = enet.fit(x=images,y=labels_onehot,validation_split=.20, epochs=5,batch_size=100)"
   ]
  },
  {
   "cell_type": "code",
   "execution_count": 66,
   "metadata": {},
   "outputs": [
    {
     "name": "stdout",
     "output_type": "stream",
     "text": [
      "Saving to: ./checkpoints/enet_2022-04-29_00-45\n"
     ]
    }
   ],
   "source": [
    "# Save the weights\n",
    "checkpoint_time = '{date:%Y-%m-%d_%H-%M}'.format(date=datetime.datetime.now())\n",
    "\n",
    "save_file = './checkpoints/enet_{}'.format(checkpoint_time)\n",
    "print('Saving to:',save_file)\n",
    "enet.save_weights(save_file)"
   ]
  },
  {
   "cell_type": "code",
   "execution_count": null,
   "metadata": {},
   "outputs": [],
   "source": [
    "enet.save('models/enet.h5')"
   ]
  },
  {
   "cell_type": "markdown",
   "metadata": {},
   "source": [
    "## Re-load model and evaluation"
   ]
  },
  {
   "cell_type": "code",
   "execution_count": null,
   "metadata": {},
   "outputs": [],
   "source": [
    "reconstructed_model = keras.models.load_model('models/enet.h5')"
   ]
  },
  {
   "cell_type": "code",
   "execution_count": null,
   "metadata": {},
   "outputs": [],
   "source": [
    "allgood = np.testing.assert_allclose(enet.predict(X_), reconstructed_model.predict(X_))"
   ]
  },
  {
   "cell_type": "code",
   "execution_count": null,
   "metadata": {},
   "outputs": [],
   "source": [
    "print(allgood)"
   ]
  },
  {
   "cell_type": "code",
   "execution_count": null,
   "metadata": {},
   "outputs": [],
   "source": [
    "from sklearn.preprocessing import label_binarize\n",
    "from sklearn.metrics import roc_curve, auc\n",
    "from sklearn.metrics import roc_auc_score\n",
    "from sklearn.metrics import confusion_matrix\n",
    "\n",
    "confusion_matrix = sklearn.metrics.confusion_matrix(y_true=Y, y_pred=y_pred, labels=None)"
   ]
  },
  {
   "cell_type": "code",
   "execution_count": null,
   "metadata": {},
   "outputs": [],
   "source": []
  },
  {
   "cell_type": "code",
   "execution_count": null,
   "metadata": {},
   "outputs": [],
   "source": [
    "fpr = dict()\n",
    "tpr = dict()\n",
    "roc_auc = dict()\n",
    "for i in range(classes):\n",
    "    fpr[i], tpr[i], _ = roc_curve(Y_train, y_pred)\n",
    "    roc_auc[i] = auc(fpr[i], tpr[i])"
   ]
  },
  {
   "cell_type": "code",
   "execution_count": null,
   "metadata": {},
   "outputs": [],
   "source": []
  }
 ],
 "metadata": {
  "kernelspec": {
   "display_name": "Python 3",
   "language": "python",
   "name": "python3"
  },
  "language_info": {
   "codemirror_mode": {
    "name": "ipython",
    "version": 3
   },
   "file_extension": ".py",
   "mimetype": "text/x-python",
   "name": "python",
   "nbconvert_exporter": "python",
   "pygments_lexer": "ipython3",
   "version": "3.8.5"
  }
 },
 "nbformat": 4,
 "nbformat_minor": 4
}
