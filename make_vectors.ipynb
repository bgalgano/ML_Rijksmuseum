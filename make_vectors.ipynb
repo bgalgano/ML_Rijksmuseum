{
 "cells": [
  {
   "cell_type": "markdown",
   "metadata": {
    "id": "_CQoTKaPKpVE"
   },
   "source": [
    "Generate encoded vectors for both query and artist aggregrate images"
   ]
  },
  {
   "cell_type": "code",
   "execution_count": 35,
   "metadata": {
    "id": "QNV-EKWPKpVG"
   },
   "outputs": [],
   "source": [
    "import read_rijksdata\n",
    "import pandas as pd\n",
    "import numpy as np\n",
    "import tensorflow as tf\n",
    "\n",
    "import matplotlib.pylab as plt\n",
    "import matplotlib as mpl\n",
    "MIN_NUM_ARTWORK = 500\n"
   ]
  },
  {
   "cell_type": "code",
   "execution_count": 36,
   "metadata": {
    "id": "cPuvAGpNKpVH",
    "outputId": "21239034-94ec-4ff9-941f-bf54816ed163"
   },
   "outputs": [
    {
     "name": "stdout",
     "output_type": "stream",
     "text": [
      " |███████████████████████████████████████-| 112038/112039 \n",
      "\n",
      "Dataset loaded!\n",
      "images shape:\t (19007, 56, 56, 3)\n",
      "labels shape:\t (19007,)\n",
      "labels (one-hot):\t (19007, 21)\n",
      "names shape:\t (19007, 1)\n"
     ]
    }
   ],
   "source": [
    "# LOAD IMAGE AND LABELS HERE\n",
    "# replace for your path here!\n",
    "img_folder = '/Users/erebor/Downloads/out_img'\n",
    "\n",
    "images, labels_onehot, labels, names, = read_rijksdata.load_data(MIN_NUM_ARTWORK=MIN_NUM_ARTWORK,\n",
    "                                                 img_folder = img_folder,\n",
    "                                                 labels_file ='labels.txt',\n",
    "                                                 names_file = 'names.txt')"
   ]
  },
  {
   "cell_type": "code",
   "execution_count": 37,
   "metadata": {
    "id": "cPuvAGpNKpVH",
    "outputId": "21239034-94ec-4ff9-941f-bf54816ed163"
   },
   "outputs": [
    {
     "name": "stdout",
     "output_type": "stream",
     "text": [
      "\n",
      "# of unique artists: 21\n",
      "Min # of artworks for all artists: 517\n",
      "Min # of artworks specified: 500\n"
     ]
    }
   ],
   "source": [
    "classes = len(list(set(labels)))\n",
    "print('\\n# of unique artists:',classes)\n",
    "\n",
    "counts = pd.DataFrame(labels).value_counts()\n",
    "print('Min # of artworks for all artists:',min(counts))\n",
    "print('Min # of artworks specified:',MIN_NUM_ARTWORK)"
   ]
  },
  {
   "cell_type": "code",
   "execution_count": 58,
   "metadata": {
    "id": "emVEhfBlKpVI"
   },
   "outputs": [],
   "source": [
    "# LOAD PRE-TRAINED ENCODER\n",
    "# get base pre-trained model first\n",
    "# more models are available here: https://www.tensorflow.org/api_docs/python/tf/keras/applications\n",
    "\n",
    "# define hyperparameters\n",
    "# define image size \n",
    "D = 100\n",
    "input_shape = (56,56,3)\n",
    "\n",
    "# define number of classes\n",
    "# ****THIS sets the number of dimensions of the encoded vector (\"D\") in Mark's email***\n",
    "# we'll probably want adjust this to be smaller or larger (depending on training results)\n",
    "# for now, classes are just the number of unique artist\n",
    "enet_kwargs = {'include_top':False,\n",
    "               'weights':'imagenet',\n",
    "               'input_tensor':None,\n",
    "               'input_shape':input_shape,\n",
    "               'pooling':None,\n",
    "               'classes':D,\n",
    "               'classifier_activation':'softmax'}\n",
    "enet_base = tf.keras.applications.efficientnet.EfficientNetB7(**enet_kwargs)\n",
    "\n",
    "# set that the encoder DOES NOT train on the images\n",
    "enet_base.trainable = False\n",
    "\n",
    "# set pre-trained model as base\n",
    "enet = tf.keras.models.Sequential()\n",
    "enet.add(enet_base)\n",
    "\n",
    "# add two final top layers\n",
    "#enet.add(tf.keras.layers.GlobalMaxPooling2D())\n",
    "enet.add(tf.keras.layers.GlobalMaxPooling2D())\n",
    "enet.add(tf.keras.layers.Dense(D, activation=\"softmax\")) # last (top) layer of network"
   ]
  },
  {
   "cell_type": "code",
   "execution_count": 59,
   "metadata": {
    "id": "Fe9On_u5KpVI",
    "outputId": "db80e953-37f0-4269-ce5e-0086840332d3"
   },
   "outputs": [
    {
     "name": "stdout",
     "output_type": "stream",
     "text": [
      "Model: \"sequential_7\"\n",
      "_________________________________________________________________\n",
      "Layer (type)                 Output Shape              Param #   \n",
      "=================================================================\n",
      "efficientnetb7 (Functional)  (None, 2, 2, 2560)        64097687  \n",
      "_________________________________________________________________\n",
      "global_max_pooling2d_3 (Glob (None, 2560)              0         \n",
      "_________________________________________________________________\n",
      "dense_7 (Dense)              (None, 100)               256100    \n",
      "=================================================================\n",
      "Total params: 64,353,787\n",
      "Trainable params: 256,100\n",
      "Non-trainable params: 64,097,687\n",
      "_________________________________________________________________\n"
     ]
    }
   ],
   "source": [
    "enet.summary()"
   ]
  },
  {
   "cell_type": "raw",
   "metadata": {
    "id": "eH6AyaOkKpVJ"
   },
   "source": [
    "# to generate vectors, just ask model to predict with the current loaded pre-trained model\n",
    "# to generate a vector for a single image:\n",
    "vector = enet.predict(image) # 1-D vector is of length \"D\"\n",
    "\n",
    "\n",
    "# load K number of artworks belong to an artist as a 4D array (K,length,width,channels)\n",
    "images =\n",
    "\n",
    "\n",
    "# iterate through artist's works to generate an aggregate vector\n",
    "vector_arr = []\n",
    "for image in images:\n",
    "    # vector is 1-D with length \"D\"\n",
    "    vector = enet.predict(image)\n",
    "    vector_arr.append(vector)\n",
    "    \n",
    "# not sure if this line is right, but something like this:\n",
    "# should go back to 1-D vector with length \"D\", e.g. \"classes\"\n",
    "vector_aggregate = np.mean(vector_arr,axis=0)"
   ]
  },
  {
   "cell_type": "code",
   "execution_count": 60,
   "metadata": {},
   "outputs": [],
   "source": [
    "#images_standard = tf.map_fn(lambda image: tf.image.per_image_standardization(image), images)\n",
    "\n"
   ]
  },
  {
   "cell_type": "code",
   "execution_count": 61,
   "metadata": {
    "id": "5bUIq4OgKpVJ"
   },
   "outputs": [
    {
     "name": "stdout",
     "output_type": "stream",
     "text": [
      "594/594 [==============================] - 227s 377ms/step\n"
     ]
    }
   ],
   "source": [
    "# Create encoded tensors for all \n",
    "encoded_arts = enet.predict(images,verbose=1)"
   ]
  },
  {
   "cell_type": "code",
   "execution_count": 69,
   "metadata": {},
   "outputs": [
    {
     "data": {
      "text/plain": [
       "0.04810826"
      ]
     },
     "execution_count": 69,
     "metadata": {},
     "output_type": "execute_result"
    }
   ],
   "source": [
    "np.max(encoded_arts)"
   ]
  },
  {
   "cell_type": "code",
   "execution_count": 70,
   "metadata": {},
   "outputs": [
    {
     "data": {
      "text/plain": [
       "(19007, 100)"
      ]
     },
     "execution_count": 70,
     "metadata": {},
     "output_type": "execute_result"
    }
   ],
   "source": [
    "encoded_arts.shape"
   ]
  },
  {
   "cell_type": "code",
   "execution_count": 71,
   "metadata": {
    "id": "5bUIq4OgKpVJ"
   },
   "outputs": [],
   "source": [
    "# Count how many pieces each artist has\n",
    "total_bc = np.bincount(labels) # get count of artists\n",
    "artcounts = total_bc[np.unique(labels)] # get count of artworks for each unique artist\n",
    "artistnames = names[np.unique(labels)] # get the name for each unique artist"
   ]
  },
  {
   "cell_type": "code",
   "execution_count": 72,
   "metadata": {
    "id": "sDjJtZGYKpVJ"
   },
   "outputs": [],
   "source": [
    "# Create aggregate vectors\n",
    "aggregate_vectors = []\n",
    "for i in range(len(artcounts)):\n",
    "    artistnum = np.unique(labels)[i] #Gets the number that represents this artist from labels\n",
    "    artistname = artistnames[i]\n",
    "    artcount = artcounts[i] #Gets number of art pieces by this artist\n",
    "    artistaddr = np.where(labels == artistnum) #Collects indices of this artist's art\n",
    "    #print(artistname,artistnum,artcount)\n",
    "\n",
    "    # calculate mean (aggregrate) vector for a single artist \n",
    "    artist_vector = np.mean(encoded_arts[artistaddr],axis=0)\n",
    "    aggregate_vectors.append(artist_vector)\n",
    "      \n",
    "aggregate_vectors = np.array(aggregate_vectors)"
   ]
  },
  {
   "cell_type": "code",
   "execution_count": 73,
   "metadata": {},
   "outputs": [
    {
     "data": {
      "text/plain": [
       "(21, 100)"
      ]
     },
     "execution_count": 73,
     "metadata": {},
     "output_type": "execute_result"
    }
   ],
   "source": []
  },
  {
   "cell_type": "code",
   "execution_count": 82,
   "metadata": {},
   "outputs": [],
   "source": [
    "def plot_aggregates(aggregate_vectors,artistnames,n=3):\n",
    "    idx = list(range(aggregate_vectors.shape[0]))\n",
    "    idxs = np.random.choice(a=idx,size=n*n)\n",
    "    vectors = aggregate_vectors[idxs]\n",
    "    artists = artistnames[idxs]\n",
    "    \n",
    "    fig, axes = plt.subplots(nrows=n,ncols=n,figsize=(9,5))\n",
    "    for ax_idx, ax in enumerate(fig.axes):\n",
    "        print(tf.math.sigmoid(vectors[ax_idx]))\n",
    "        norm = mpl.colors.Normalize(vmin=0.4, vmax=0.6)\n",
    "        ax.imshow(np.atleast_2d(vectors[ax_idx]), aspect=20, cmap='rainbow', interpolation=None)\n",
    "        ax.set_xticks([]),ax.set_yticks([])\n",
    "        ax.set_xlabel(artists[ax_idx][0])\n",
    "    plt.savefig('figs/aggregrates_sample.png',dpi=200,tight_layout=True)\n",
    "    plt.show()\n",
    "    plt.close()"
   ]
  },
  {
   "cell_type": "code",
   "execution_count": 83,
   "metadata": {},
   "outputs": [
    {
     "name": "stdout",
     "output_type": "stream",
     "text": [
      "tf.Tensor(\n",
      "[0.5014653  0.50297093 0.50258714 0.5032058  0.50338024 0.50105184\n",
      " 0.5026283  0.50139236 0.50418764 0.50309926 0.50185597 0.5038161\n",
      " 0.5018691  0.50216293 0.5017134  0.5018173  0.50173473 0.50175303\n",
      " 0.50218695 0.5018902  0.50132823 0.5015637  0.5021351  0.50367254\n",
      " 0.50445765 0.5010177  0.5018279  0.5014809  0.50389653 0.50505185\n",
      " 0.5025696  0.50225604 0.50140506 0.5019437  0.5033233  0.50175124\n",
      " 0.50282353 0.50184983 0.5048569  0.50274837 0.50171906 0.5012705\n",
      " 0.50199604 0.50343525 0.50343275 0.5018489  0.50384986 0.501556\n",
      " 0.50249326 0.5010831  0.5013908  0.50188434 0.5018764  0.5029665\n",
      " 0.5025311  0.504256   0.502492   0.5013114  0.5023877  0.50131804\n",
      " 0.5014325  0.5051886  0.50176597 0.502203   0.50279194 0.50154287\n",
      " 0.5018453  0.50229    0.50169194 0.5038033  0.50192225 0.5038592\n",
      " 0.5031683  0.50197655 0.50217724 0.50351965 0.5021758  0.50448394\n",
      " 0.50163776 0.50151414 0.50245583 0.50174356 0.50222075 0.5035415\n",
      " 0.50245756 0.50266397 0.50314903 0.5020404  0.50352937 0.50300956\n",
      " 0.50171983 0.5030344  0.5024437  0.5033509  0.50302416 0.503377\n",
      " 0.50140333 0.50439954 0.5039851  0.50162977], shape=(100,), dtype=float32)\n",
      "tf.Tensor(\n",
      "[0.50144345 0.5029594  0.5026049  0.50332505 0.50324607 0.5010588\n",
      " 0.5025708  0.501445   0.5041476  0.50312144 0.50179946 0.503812\n",
      " 0.50188804 0.50228035 0.5016851  0.50178623 0.5017335  0.50178504\n",
      " 0.5021908  0.50194585 0.5013637  0.50153106 0.5021749  0.5037201\n",
      " 0.5044379  0.5010516  0.50183946 0.5014632  0.5039186  0.5050524\n",
      " 0.5025627  0.5023067  0.5013701  0.5019551  0.50336695 0.5017376\n",
      " 0.502777   0.50186634 0.5046749  0.5027251  0.50171596 0.50125843\n",
      " 0.5020443  0.5033486  0.503481   0.50190717 0.50401783 0.50156784\n",
      " 0.5024388  0.50109744 0.5013956  0.50187415 0.5018754  0.5029846\n",
      " 0.5025115  0.5043789  0.50257635 0.5013254  0.5023914  0.5013303\n",
      " 0.50144494 0.5050354  0.5017886  0.5022947  0.5027986  0.5015877\n",
      " 0.5018443  0.5024328  0.501662   0.50380397 0.5019135  0.50384295\n",
      " 0.50307626 0.5019228  0.50211203 0.5035284  0.5021731  0.5043265\n",
      " 0.50164616 0.50154936 0.50245774 0.50174516 0.5021041  0.503626\n",
      " 0.50242245 0.5026574  0.5031273  0.50212044 0.5035313  0.5029578\n",
      " 0.50169724 0.50294757 0.50246596 0.5034096  0.5029054  0.5033568\n",
      " 0.50138974 0.50444895 0.50400954 0.50158715], shape=(100,), dtype=float32)\n",
      "tf.Tensor(\n",
      "[0.50142586 0.50300324 0.50263554 0.5033337  0.5032403  0.50104666\n",
      " 0.5025032  0.5014083  0.50421745 0.5030935  0.5018001  0.50378066\n",
      " 0.50181    0.5022255  0.5016974  0.50183016 0.50176007 0.5017496\n",
      " 0.5021151  0.50190526 0.50133526 0.5015629  0.5021292  0.5037258\n",
      " 0.5045793  0.5010622  0.5018669  0.5015251  0.5038432  0.50527763\n",
      " 0.5025143  0.5022661  0.50134945 0.5019708  0.50337875 0.50175226\n",
      " 0.5028774  0.50184816 0.50474256 0.5028093  0.5017552  0.5011869\n",
      " 0.5020373  0.50336665 0.5035112  0.5018484  0.5039329  0.5015892\n",
      " 0.5024256  0.50113463 0.5013622  0.50179744 0.50181276 0.50290054\n",
      " 0.50253534 0.50418204 0.5025101  0.50134367 0.50238746 0.5013232\n",
      " 0.5014325  0.505219   0.5018435  0.5023139  0.50281733 0.5015891\n",
      " 0.50178057 0.5023509  0.5016866  0.5037604  0.5019235  0.50399286\n",
      " 0.5030212  0.5019789  0.5021576  0.50366986 0.502133   0.50443226\n",
      " 0.50165886 0.501523   0.5023942  0.5018144  0.50207126 0.5035907\n",
      " 0.5024256  0.50267076 0.5031481  0.5021299  0.5033868  0.5030589\n",
      " 0.50175875 0.502903   0.50236005 0.50338614 0.50291973 0.50346065\n",
      " 0.5014073  0.50434774 0.5039185  0.50161844], shape=(100,), dtype=float32)\n",
      "tf.Tensor(\n",
      "[0.5014124  0.5029256  0.50261575 0.50328225 0.5033277  0.50103235\n",
      " 0.50250196 0.5013984  0.50423795 0.50305676 0.50181544 0.50371987\n",
      " 0.5017932  0.502249   0.5016776  0.5018374  0.5017604  0.501728\n",
      " 0.5021509  0.50197524 0.50134146 0.5015567  0.5021646  0.5037098\n",
      " 0.5043991  0.50103194 0.50186676 0.5014693  0.50382537 0.505274\n",
      " 0.50264907 0.50232553 0.5014064  0.50193375 0.5032715  0.50166935\n",
      " 0.5027815  0.50183743 0.5048648  0.5027396  0.5017329  0.5012413\n",
      " 0.5019604  0.5034315  0.50346464 0.5018163  0.5038721  0.5015878\n",
      " 0.5024699  0.5011018  0.50140077 0.5018685  0.5018296  0.502974\n",
      " 0.50261587 0.5042898  0.50254166 0.501335   0.5024005  0.5013143\n",
      " 0.50141    0.50519687 0.50178397 0.5022736  0.50273675 0.5015888\n",
      " 0.5018089  0.50232184 0.50170654 0.5039399  0.5018659  0.50385296\n",
      " 0.50310546 0.50194764 0.5021052  0.5035963  0.50213826 0.5043993\n",
      " 0.5016168  0.50151634 0.5024071  0.50184184 0.50212044 0.5036905\n",
      " 0.5024809  0.5026745  0.5030643  0.5021301  0.5035038  0.5030677\n",
      " 0.5017481  0.503033   0.5024008  0.5033305  0.50287604 0.5034146\n",
      " 0.5013664  0.5044908  0.50397104 0.50160825], shape=(100,), dtype=float32)\n",
      "tf.Tensor(\n",
      "[0.5014347  0.50294995 0.50262815 0.50339466 0.50327516 0.50107354\n",
      " 0.50250685 0.50142944 0.50408876 0.5030674  0.5017433  0.50383306\n",
      " 0.50187814 0.50230455 0.5016825  0.50179833 0.50173795 0.5018106\n",
      " 0.5022042  0.5019614  0.50135803 0.5015258  0.50218946 0.50377476\n",
      " 0.5043646  0.5010587  0.50185645 0.5014644  0.50385547 0.5050872\n",
      " 0.50254726 0.50232506 0.50135964 0.5019987  0.503397   0.50171256\n",
      " 0.5027643  0.50184274 0.5047412  0.5026898  0.501718   0.5012413\n",
      " 0.5020752  0.5033192  0.50347996 0.50190246 0.50408876 0.5015416\n",
      " 0.5023593  0.501131   0.50139165 0.50183743 0.50183713 0.50300026\n",
      " 0.50251913 0.50437665 0.5026078  0.5013491  0.50239676 0.5013119\n",
      " 0.50145924 0.5049723  0.50182813 0.50231713 0.5028026  0.50158906\n",
      " 0.5018226  0.50242275 0.50168824 0.50377303 0.5018875  0.50382996\n",
      " 0.5030969  0.50194854 0.50209796 0.50352544 0.5021607  0.5042589\n",
      " 0.50169384 0.5015483  0.50244534 0.5018046  0.50205684 0.50365925\n",
      " 0.5024193  0.50269234 0.5031676  0.5021183  0.50350785 0.50294226\n",
      " 0.5017076  0.50297695 0.50244015 0.5034146  0.50291353 0.50337625\n",
      " 0.5014059  0.5043912  0.50402826 0.5016054 ], shape=(100,), dtype=float32)\n",
      "tf.Tensor(\n",
      "[0.5015489  0.502991   0.5025332  0.50317353 0.50353193 0.50103104\n",
      " 0.5025334  0.50139505 0.5046606  0.50307757 0.5018663  0.50368816\n",
      " 0.50165516 0.5020737  0.5016295  0.50178653 0.50172853 0.50160706\n",
      " 0.5021183  0.5020095  0.5013272  0.50171894 0.5021926  0.5038178\n",
      " 0.504422   0.5009685  0.50189644 0.50165033 0.5037714  0.5059219\n",
      " 0.50280285 0.50230455 0.5013995  0.50180507 0.50313795 0.5017069\n",
      " 0.50291175 0.5018439  0.5048516  0.5029999  0.5017322  0.5010786\n",
      " 0.5018213  0.50345314 0.50365037 0.5017421  0.5035631  0.50166494\n",
      " 0.5026339  0.5010342  0.5013658  0.50183535 0.501867   0.5027607\n",
      " 0.50256604 0.5038337  0.502378   0.50134706 0.50236356 0.5013167\n",
      " 0.5012542  0.5051899  0.5018334  0.50230426 0.50265425 0.50152516\n",
      " 0.5017401  0.5021052  0.50170034 0.50363475 0.50184065 0.5040546\n",
      " 0.50307214 0.5019889  0.50205606 0.5041173  0.5020889  0.504505\n",
      " 0.5015025  0.50137234 0.50229615 0.50196934 0.50209475 0.50362813\n",
      " 0.5026857  0.5026489  0.5031421  0.5022912  0.50360996 0.5035178\n",
      " 0.5017523  0.5030164  0.50229365 0.50327116 0.50280863 0.50355023\n",
      " 0.5013587  0.50418824 0.5037348  0.5015009 ], shape=(100,), dtype=float32)\n",
      "tf.Tensor(\n",
      "[0.50150156 0.50265193 0.5027853  0.503277   0.5034272  0.50107986\n",
      " 0.502495   0.5014415  0.5045172  0.502973   0.5016997  0.5039562\n",
      " 0.5017833  0.502149   0.5016612  0.5017592  0.50194    0.50180596\n",
      " 0.5022202  0.50195324 0.5013904  0.50158757 0.5021754  0.5035288\n",
      " 0.5040823  0.5009688  0.5018237  0.5014836  0.50390595 0.5049389\n",
      " 0.50270414 0.5023617  0.5015148  0.5018685  0.5030167  0.50167865\n",
      " 0.50254834 0.50177073 0.5049004  0.5027146  0.501585   0.50122935\n",
      " 0.50199676 0.5037501  0.50335145 0.50184566 0.5039702  0.50159925\n",
      " 0.5025687  0.50114316 0.5014247  0.5019715  0.502113   0.5030448\n",
      " 0.5025034  0.5044281  0.50261635 0.501437   0.5022417  0.5014089\n",
      " 0.5013951  0.5048678  0.5019658  0.50215656 0.5028586  0.50163984\n",
      " 0.501892   0.50227696 0.50174916 0.5037052  0.50178814 0.5034804\n",
      " 0.5034084  0.50198513 0.5019877  0.50347877 0.50212    0.50427604\n",
      " 0.50157136 0.501458   0.5021883  0.5016635  0.5021459  0.5037498\n",
      " 0.50281924 0.50284296 0.5029707  0.50210434 0.5037901  0.50291616\n",
      " 0.5018641  0.5033136  0.5023993  0.50333077 0.5028786  0.5033836\n",
      " 0.50125384 0.504445   0.50417095 0.5014342 ], shape=(100,), dtype=float32)\n",
      "tf.Tensor(\n",
      "[0.50147206 0.50292426 0.50267416 0.5032788  0.50326973 0.5010655\n",
      " 0.50260085 0.5014525  0.50413966 0.5030729  0.5017688  0.50384617\n",
      " 0.5019243  0.502217   0.5017213  0.5017947  0.5017788  0.50179434\n",
      " 0.5022366  0.50192064 0.5013564  0.5015481  0.502197   0.50370353\n",
      " 0.5043754  0.5010455  0.50184983 0.50149435 0.50386435 0.504992\n",
      " 0.5026046  0.5022367  0.501392   0.5019634  0.50337636 0.50176084\n",
      " 0.50278664 0.50186235 0.504603   0.502779   0.50171196 0.5012613\n",
      " 0.5020566  0.50335085 0.5035151  0.5019071  0.5039613  0.50153303\n",
      " 0.502432   0.5011044  0.501426   0.50184655 0.501884   0.5030279\n",
      " 0.50248575 0.50426394 0.5025998  0.50134885 0.50243545 0.50135744\n",
      " 0.5014737  0.50498205 0.50183463 0.502259   0.5028759  0.50154465\n",
      " 0.50188994 0.5023637  0.501665   0.50374484 0.5018895  0.5038081\n",
      " 0.5031396  0.5019481  0.5021822  0.50352436 0.5021832  0.5043044\n",
      " 0.5016592  0.5015246  0.50241905 0.5017017  0.5021227  0.50359076\n",
      " 0.5024746  0.5026435  0.50314516 0.5021025  0.5034618  0.5029011\n",
      " 0.5016953  0.5029579  0.50250036 0.50343335 0.5029633  0.5034277\n",
      " 0.5014147  0.5043751  0.50398725 0.5016286 ], shape=(100,), dtype=float32)\n",
      "tf.Tensor(\n",
      "[0.5015113  0.5028373  0.50274533 0.5031745  0.5032845  0.5010509\n",
      " 0.5025688  0.5014332  0.5041109  0.503157   0.5017914  0.503881\n",
      " 0.5019926  0.5021469  0.5017583  0.5018462  0.5018183  0.50178283\n",
      " 0.5022409  0.5018721  0.5013514  0.50158405 0.5022413  0.50377226\n",
      " 0.50446105 0.5010504  0.5018949  0.50154966 0.50375575 0.5050137\n",
      " 0.5025783  0.50222194 0.50138164 0.5019648  0.5034781  0.5017937\n",
      " 0.50288016 0.50188047 0.50435394 0.50287235 0.5017036  0.5012508\n",
      " 0.5020536  0.5033308  0.5036364  0.50194496 0.5038789  0.50151557\n",
      " 0.5024429  0.5011308  0.5014077  0.50182205 0.5018304  0.5030079\n",
      " 0.50244284 0.5040621  0.502515   0.5013472  0.5025178  0.5013716\n",
      " 0.5014903  0.5050297  0.5018265  0.50226885 0.50293547 0.5014798\n",
      " 0.5018819  0.50220233 0.501696   0.5037248  0.5018446  0.5039328\n",
      " 0.50314873 0.50198704 0.50225234 0.5036567  0.5021693  0.5043555\n",
      " 0.5016839  0.50148934 0.5023729  0.5016243  0.50218654 0.50358945\n",
      " 0.5024548  0.5025896  0.50310886 0.5021328  0.5033165  0.5030191\n",
      " 0.5016321  0.50287    0.5024858  0.5034826  0.5030215  0.50348157\n",
      " 0.5014487  0.50430846 0.5038767  0.50164175], shape=(100,), dtype=float32)\n",
      "tf.Tensor(\n",
      "[0.5014738  0.5029763  0.5025953  0.5032279  0.5033257  0.50106776\n",
      " 0.5026206  0.50144154 0.50411975 0.50303924 0.5018532  0.5038286\n",
      " 0.50191283 0.50221384 0.50169265 0.5017647  0.50170815 0.50178343\n",
      " 0.5022192  0.5018816  0.5013287  0.5015278  0.5021497  0.50372726\n",
      " 0.50451195 0.50104034 0.50185394 0.5014877  0.50389314 0.5050382\n",
      " 0.5025637  0.5022452  0.50134856 0.5019479  0.50345737 0.5017691\n",
      " 0.502858   0.50183994 0.5046507  0.50275415 0.5017523  0.5012492\n",
      " 0.5020472  0.50332105 0.5035133  0.5018934  0.50394773 0.50151134\n",
      " 0.5023998  0.5010877  0.5014164  0.5018501  0.5018526  0.5029373\n",
      " 0.50244516 0.50427693 0.5025553  0.50130963 0.502432   0.5013085\n",
      " 0.5014508  0.50509524 0.5017626  0.50229067 0.5028838  0.5015301\n",
      " 0.5018425  0.50236744 0.5016392  0.50383097 0.5019475  0.5039453\n",
      " 0.50315094 0.5019808  0.5022169  0.5035614  0.5021411  0.5043906\n",
      " 0.50163877 0.50152814 0.50244224 0.5016944  0.50210774 0.5035495\n",
      " 0.5024611  0.50264126 0.50319296 0.5021163  0.5035174  0.5029399\n",
      " 0.5016858  0.5028651  0.50248474 0.5034309  0.5030046  0.50343627\n",
      " 0.5014238  0.50443256 0.50389624 0.5016333 ], shape=(100,), dtype=float32)\n",
      "tf.Tensor(\n",
      "[0.5014947  0.5029112  0.5026836  0.5032795  0.50326204 0.50110584\n",
      " 0.50264364 0.50148326 0.50413316 0.5030374  0.5017528  0.5038543\n",
      " 0.50191575 0.502144   0.50171757 0.5018338  0.5017675  0.5018008\n",
      " 0.5022139  0.5019259  0.5013956  0.50155693 0.5022214  0.5037233\n",
      " 0.50441974 0.5010611  0.5019035  0.50155073 0.5037988  0.5049977\n",
      " 0.5026481  0.5022786  0.5014034  0.5019803  0.50339556 0.50180113\n",
      " 0.5027622  0.5018461  0.5045602  0.50276273 0.5016839  0.5012066\n",
      " 0.5021002  0.5033538  0.5036435  0.5018783  0.5040443  0.50156045\n",
      " 0.5024313  0.50111324 0.50143605 0.50182194 0.501895   0.50301397\n",
      " 0.50243336 0.5042389  0.50261116 0.5013369  0.5024164  0.5013535\n",
      " 0.50151026 0.5049043  0.5018372  0.50229657 0.50288355 0.5015176\n",
      " 0.5019177  0.50232667 0.50164735 0.5037366  0.50185776 0.5037757\n",
      " 0.5031792  0.50200456 0.5022262  0.5035675  0.5022302  0.5041236\n",
      " 0.5016694  0.5015535  0.5024088  0.5016446  0.50211143 0.50360173\n",
      " 0.5024614  0.5025859  0.5031962  0.50207406 0.5034655  0.5029343\n",
      " 0.5016936  0.50285727 0.5025138  0.50347465 0.50291085 0.503389\n",
      " 0.5014067  0.5042919  0.50396633 0.5016433 ], shape=(100,), dtype=float32)\n",
      "tf.Tensor(\n",
      "[0.50160575 0.50295174 0.5026449  0.502943   0.5032669  0.5011014\n",
      " 0.5027589  0.50146794 0.50387436 0.50309914 0.501818   0.50388896\n",
      " 0.5020441  0.50212085 0.50180614 0.50187    0.5017959  0.50187016\n",
      " 0.50228184 0.50179946 0.5013618  0.501567   0.5022033  0.50373137\n",
      " 0.5042524  0.5010568  0.50198925 0.5015266  0.5037297  0.5045815\n",
      " 0.50253195 0.5021409  0.50145644 0.50201    0.5035136  0.5019299\n",
      " 0.5028149  0.5018632  0.50423217 0.5028535  0.5017178  0.5013161\n",
      " 0.5021612  0.5033444  0.5035486  0.5018627  0.50390863 0.50149906\n",
      " 0.5024682  0.50107384 0.50143963 0.50191635 0.50187135 0.50314\n",
      " 0.5024354  0.5042317  0.50263053 0.501298   0.50245726 0.5013901\n",
      " 0.5016316  0.50479937 0.5017677  0.5022415  0.5029367  0.50144345\n",
      " 0.50195116 0.50221187 0.5016806  0.5036585  0.5019044  0.5038282\n",
      " 0.50327104 0.5019602  0.502392   0.50345296 0.5022547  0.5043236\n",
      " 0.50174654 0.5015664  0.5024312  0.5015756  0.5023087  0.50339395\n",
      " 0.5023935  0.50261486 0.50317365 0.5019887  0.50323915 0.5029845\n",
      " 0.5016109  0.50282735 0.502619   0.50364697 0.5031749  0.50343853\n",
      " 0.5014895  0.5043373  0.5039479  0.50171185], shape=(100,), dtype=float32)\n",
      "tf.Tensor(\n",
      "[0.5015489  0.502991   0.5025332  0.50317353 0.50353193 0.50103104\n",
      " 0.5025334  0.50139505 0.5046606  0.50307757 0.5018663  0.50368816\n",
      " 0.50165516 0.5020737  0.5016295  0.50178653 0.50172853 0.50160706\n",
      " 0.5021183  0.5020095  0.5013272  0.50171894 0.5021926  0.5038178\n",
      " 0.504422   0.5009685  0.50189644 0.50165033 0.5037714  0.5059219\n",
      " 0.50280285 0.50230455 0.5013995  0.50180507 0.50313795 0.5017069\n",
      " 0.50291175 0.5018439  0.5048516  0.5029999  0.5017322  0.5010786\n",
      " 0.5018213  0.50345314 0.50365037 0.5017421  0.5035631  0.50166494\n",
      " 0.5026339  0.5010342  0.5013658  0.50183535 0.501867   0.5027607\n",
      " 0.50256604 0.5038337  0.502378   0.50134706 0.50236356 0.5013167\n",
      " 0.5012542  0.5051899  0.5018334  0.50230426 0.50265425 0.50152516\n",
      " 0.5017401  0.5021052  0.50170034 0.50363475 0.50184065 0.5040546\n",
      " 0.50307214 0.5019889  0.50205606 0.5041173  0.5020889  0.504505\n",
      " 0.5015025  0.50137234 0.50229615 0.50196934 0.50209475 0.50362813\n",
      " 0.5026857  0.5026489  0.5031421  0.5022912  0.50360996 0.5035178\n",
      " 0.5017523  0.5030164  0.50229365 0.50327116 0.50280863 0.50355023\n",
      " 0.5013587  0.50418824 0.5037348  0.5015009 ], shape=(100,), dtype=float32)\n",
      "tf.Tensor(\n",
      "[0.50154626 0.5028922  0.50258416 0.5028768  0.5031912  0.5011192\n",
      " 0.50288624 0.50150394 0.50387    0.5031369  0.50191975 0.503869\n",
      " 0.50206304 0.5021413  0.5018269  0.50187045 0.5017422  0.5019131\n",
      " 0.5022254  0.5018439  0.5014557  0.50149834 0.5021105  0.5035626\n",
      " 0.50425285 0.5010703  0.5020148  0.50145954 0.5037738  0.5042346\n",
      " 0.5026348  0.50219905 0.50148046 0.5020325  0.5033882  0.5019606\n",
      " 0.5026699  0.5019294  0.5043382  0.5026354  0.50168234 0.5013756\n",
      " 0.502133   0.5033474  0.50343895 0.50181377 0.504069   0.5015532\n",
      " 0.5025146  0.50110054 0.5015023  0.5019905  0.50191146 0.5031065\n",
      " 0.502453   0.5045151  0.50261223 0.5012937  0.5026119  0.501394\n",
      " 0.50166374 0.5047862  0.50168866 0.50219333 0.5028699  0.5015307\n",
      " 0.5019761  0.50233316 0.5016253  0.5039182  0.5019135  0.5035985\n",
      " 0.5033771  0.5019485  0.50241756 0.5030883  0.5022612  0.5044309\n",
      " 0.5017159  0.5015841  0.5025124  0.50152194 0.5024046  0.5034314\n",
      " 0.50248706 0.5026694  0.50302064 0.5018709  0.5032836  0.50282514\n",
      " 0.50166714 0.502753   0.50262773 0.50345796 0.5032168  0.50331455\n",
      " 0.5015397  0.5045458  0.50400555 0.5017781 ], shape=(100,), dtype=float32)\n",
      "tf.Tensor(\n",
      "[0.50142586 0.50300324 0.50263554 0.5033337  0.5032403  0.50104666\n",
      " 0.5025032  0.5014083  0.50421745 0.5030935  0.5018001  0.50378066\n",
      " 0.50181    0.5022255  0.5016974  0.50183016 0.50176007 0.5017496\n",
      " 0.5021151  0.50190526 0.50133526 0.5015629  0.5021292  0.5037258\n",
      " 0.5045793  0.5010622  0.5018669  0.5015251  0.5038432  0.50527763\n",
      " 0.5025143  0.5022661  0.50134945 0.5019708  0.50337875 0.50175226\n",
      " 0.5028774  0.50184816 0.50474256 0.5028093  0.5017552  0.5011869\n",
      " 0.5020373  0.50336665 0.5035112  0.5018484  0.5039329  0.5015892\n",
      " 0.5024256  0.50113463 0.5013622  0.50179744 0.50181276 0.50290054\n",
      " 0.50253534 0.50418204 0.5025101  0.50134367 0.50238746 0.5013232\n",
      " 0.5014325  0.505219   0.5018435  0.5023139  0.50281733 0.5015891\n",
      " 0.50178057 0.5023509  0.5016866  0.5037604  0.5019235  0.50399286\n",
      " 0.5030212  0.5019789  0.5021576  0.50366986 0.502133   0.50443226\n",
      " 0.50165886 0.501523   0.5023942  0.5018144  0.50207126 0.5035907\n",
      " 0.5024256  0.50267076 0.5031481  0.5021299  0.5033868  0.5030589\n",
      " 0.50175875 0.502903   0.50236005 0.50338614 0.50291973 0.50346065\n",
      " 0.5014073  0.50434774 0.5039185  0.50161844], shape=(100,), dtype=float32)\n",
      "tf.Tensor(\n",
      "[0.50146025 0.50296414 0.5026547  0.50328237 0.5033022  0.5010731\n",
      " 0.5026099  0.5014482  0.50419694 0.50304097 0.5017487  0.5038752\n",
      " 0.50189143 0.5021966  0.50171053 0.5018136  0.5017655  0.5017894\n",
      " 0.50221854 0.5019211  0.50136495 0.5015365  0.50217134 0.50365996\n",
      " 0.50435525 0.50103056 0.5018405  0.5014967  0.50390404 0.50495875\n",
      " 0.50267273 0.5022942  0.50140786 0.5019681  0.5033291  0.5017756\n",
      " 0.5027675  0.501865   0.5046722  0.50271124 0.5016878  0.5012571\n",
      " 0.5020683  0.50334483 0.5035438  0.5018867  0.5040225  0.5015683\n",
      " 0.50245076 0.50108933 0.50142574 0.50186056 0.5019241  0.5029927\n",
      " 0.5025117  0.50428474 0.5025991  0.5013301  0.5023953  0.5013529\n",
      " 0.50147444 0.50493664 0.5018113  0.5022457  0.5028185  0.5015811\n",
      " 0.5018867  0.50236666 0.5016686  0.50379205 0.5018794  0.50376356\n",
      " 0.503154   0.5019524  0.50214916 0.5035037  0.5021681  0.5043145\n",
      " 0.50163305 0.5015412  0.5024161  0.50168616 0.5021035  0.5036168\n",
      " 0.50251037 0.50262564 0.5031665  0.5020626  0.503595   0.5028933\n",
      " 0.50172037 0.5029832  0.5025115  0.5033957  0.5029204  0.5033937\n",
      " 0.5014011  0.50439256 0.5040076  0.5016124 ], shape=(100,), dtype=float32)\n"
     ]
    },
    {
     "name": "stderr",
     "output_type": "stream",
     "text": [
      "<ipython-input-82-e4eaa57f477f>:14: MatplotlibDeprecationWarning: savefig() got unexpected keyword argument \"tight_layout\" which is no longer supported as of 3.3 and will become an error two minor releases later\n",
      "  plt.savefig('aggregrates_sample.png',dpi=200,tight_layout=True)\n"
     ]
    },
    {
     "data": {
      "image/png": "[encoded data removed]",
      "text/plain": [
       "<Figure size 648x360 with 16 Axes>"
      ]
     },
     "metadata": {},
     "output_type": "display_data"
    }
   ],
   "source": [
    "plot_aggregates(aggregate_vectors,artistnames,n=4)"
   ]
  },
  {
   "cell_type": "code",
   "execution_count": null,
   "metadata": {
    "executionInfo": {
     "elapsed": 136,
     "status": "ok",
     "timestamp": 1651784828485,
     "user": {
      "displayName": "Edward",
      "userId": "06390780441557377801"
     },
     "user_tz": 240
    },
    "id": "iLEPypzrAvi5"
   },
   "outputs": [],
   "source": [
    "# Query Image Removal Function\n",
    "def query_image_remover(qi_vec, avg_vec, artnum):\n",
    "    new_vec = (tf.math.subtract(avg_vec,  qi_vec * (1/artnum)) * (artnum/(artnum-1)))\n",
    "    return new_vec"
   ]
  },
  {
   "cell_type": "code",
   "execution_count": null,
   "metadata": {},
   "outputs": [],
   "source": []
  }
 ],
 "metadata": {
  "colab": {
   "name": "make_vectors.ipynb",
   "provenance": []
  },
  "kernelspec": {
   "display_name": "Python 3",
   "language": "python",
   "name": "python3"
  },
  "language_info": {
   "codemirror_mode": {
    "name": "ipython",
    "version": 3
   },
   "file_extension": ".py",
   "mimetype": "text/x-python",
   "name": "python",
   "nbconvert_exporter": "python",
   "pygments_lexer": "ipython3",
   "version": "3.8.5"
  }
 },
 "nbformat": 4,
 "nbformat_minor": 4
}
