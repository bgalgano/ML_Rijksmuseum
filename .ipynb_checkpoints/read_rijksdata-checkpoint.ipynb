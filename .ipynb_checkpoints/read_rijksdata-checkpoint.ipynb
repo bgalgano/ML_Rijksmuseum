{
 "cells": [
  {
   "cell_type": "code",
   "execution_count": 25,
   "metadata": {
    "executionInfo": {
     "elapsed": 1043,
     "status": "ok",
     "timestamp": 1651087534786,
     "user": {
      "displayName": "Edward",
      "userId": "06390780441557377801"
     },
     "user_tz": 240
    },
    "id": "yZXMkB5sJ1m1"
   },
   "outputs": [],
   "source": [
    "import scipy.io\n",
    "import h5py\n",
    "import pandas as pd\n",
    "import numpy as np\n",
    "import os\n",
    "import cv2\n",
    "import tensorflow as tf"
   ]
  },
  {
   "cell_type": "raw",
   "metadata": {
    "colab": {
     "base_uri": "https://localhost:8080/"
    },
    "executionInfo": {
     "elapsed": 8639,
     "status": "ok",
     "timestamp": 1651069168041,
     "user": {
      "displayName": "Edward",
      "userId": "06390780441557377801"
     },
     "user_tz": 240
    },
    "id": "jH45pVllH9iG",
    "outputId": "3616d06d-f9f8-4eaf-c517-5a74ac9c8175"
   },
   "source": [
    "from google.colab import drive\n",
    "drive.mount('/content/drive')"
   ]
  },
  {
   "cell_type": "raw",
   "metadata": {
    "executionInfo": {
     "elapsed": 157,
     "status": "ok",
     "timestamp": 1651087996100,
     "user": {
      "displayName": "Edward",
      "userId": "06390780441557377801"
     },
     "user_tz": 240
    },
    "id": "Uiz32V34Mf1V"
   },
   "source": [
    "os.chdir('/content/drive/MyDrive/Colab Notebooks/rijkmuseum')"
   ]
  },
  {
   "cell_type": "code",
   "execution_count": 27,
   "metadata": {},
   "outputs": [],
   "source": [
    "def progess_bar(iteration, total, prefix = '', suffix = '', decimals = 0, length = 40, fill = '█', printEnd = \"\\r\"):\n",
    "\n",
    "    percent = (\"{:}/{:}\").format(iteration,total)\n",
    "    filledLength = int(length * iteration // total)\n",
    "    bar = fill * filledLength + '-' * (length - filledLength)\n",
    "    print(f'\\r{prefix} |{bar}| {percent} {suffix}', end = printEnd)"
   ]
  },
  {
   "cell_type": "code",
   "execution_count": 28,
   "metadata": {
    "colab": {
     "base_uri": "https://localhost:8080/"
    },
    "executionInfo": {
     "elapsed": 170,
     "status": "ok",
     "timestamp": 1651074073687,
     "user": {
      "displayName": "Edward",
      "userId": "06390780441557377801"
     },
     "user_tz": 240
    },
    "id": "BPZNuTQWiHw8",
    "outputId": "1160352a-3d99-4b48-862f-2721f4e60ba0"
   },
   "outputs": [
    {
     "name": "stderr",
     "output_type": "stream",
     "text": [
      "<ipython-input-28-9d9f5cdd99e1>:3: ParserWarning: Falling back to the 'python' engine because the 'c' engine does not support regex separators (separators > 1 char and different from '\\s+' are interpreted as regex); you can avoid this warning by specifying engine='python'.\n",
      "  names = pd.read_csv('names.txt',delimiter = '/t',header=None)\n"
     ]
    }
   ],
   "source": [
    "#Read in labels\n",
    "labels = pd.read_csv('labels.txt',delimiter = ',',header=None)\n",
    "names = pd.read_csv('names.txt',delimiter = '/t',header=None)\n",
    "labels = labels.to_numpy(dtype = 'int')\n",
    "labels = np.squeeze(labels)"
   ]
  },
  {
   "cell_type": "code",
   "execution_count": 30,
   "metadata": {
    "id": "-jYxFCvgZG0N"
   },
   "outputs": [
    {
     "name": "stdout",
     "output_type": "stream",
     "text": [
      " |███████████████████████████████████████-| 112038/112039 \r"
     ]
    }
   ],
   "source": [
    "##Load in Art\n",
    "numart = labels.shape[0] \n",
    "\n",
    "#Create dummy array\n",
    "artlog = np.zeros((numart,56,56,3),dtype = 'int')\n",
    "\n",
    "#Get addresses\n",
    "img_folder = 'out_img' #Address of the folder with images goes here. Make sure you write the complete address\n",
    "img_filenames = os.listdir(img_folder)\n",
    "art_addr = []\n",
    "for ifn in img_filenames:\n",
    "    art_addr.append(img_folder + '/' + ifn)\n",
    "\n",
    "\n",
    "#Load in pieces one at a time\n",
    "\n",
    "for x in range(numart):\n",
    "    newart = cv2.imread(art_addr[x])\n",
    "    progess_bar(iteration=x, total=numart)\n",
    "\n",
    "    if len(newart.shape) == 2:\n",
    "        newart = np.expand_dims(newart,axis=2)\n",
    "        newart = np.concatenate((newart,newart,newart),axis=2)\n",
    "        artlog[x,:,:,:] = newart\n"
   ]
  },
  {
   "cell_type": "code",
   "execution_count": 10,
   "metadata": {},
   "outputs": [
    {
     "data": {
      "text/plain": [
       "(112039, 56, 56, 3)"
      ]
     },
     "execution_count": 10,
     "metadata": {},
     "output_type": "execute_result"
    }
   ],
   "source": [
    "artlog.shape"
   ]
  },
  {
   "cell_type": "code",
   "execution_count": 11,
   "metadata": {
    "colab": {
     "base_uri": "https://localhost:8080/"
    },
    "executionInfo": {
     "elapsed": 195,
     "status": "ok",
     "timestamp": 1651069551324,
     "user": {
      "displayName": "Edward",
      "userId": "06390780441557377801"
     },
     "user_tz": 240
    },
    "id": "vxQnFOG3aMvc",
    "outputId": "02c3dc39-d446-457c-d14a-a6286e9ec992"
   },
   "outputs": [],
   "source": [
    "## Shuffle\n",
    "\n",
    "#Create Shuffle\n",
    "mixer = np.arange(numart)\n",
    "np.random.shuffle(mixer)\n",
    "\n",
    "#Apply Shuffle\n",
    "artlog = artlog[mixer,:,:,:]\n",
    "labels = labels[mixer]\n"
   ]
  },
  {
   "cell_type": "code",
   "execution_count": 31,
   "metadata": {},
   "outputs": [
    {
     "name": "stdout",
     "output_type": "stream",
     "text": [
      "[1875 3798 3751 ... 6621 1231 2174]\n"
     ]
    }
   ],
   "source": [
    "print(labels)"
   ]
  },
  {
   "cell_type": "code",
   "execution_count": 32,
   "metadata": {
    "id": "hQhtELNBmH7I"
   },
   "outputs": [],
   "source": [
    "## Remove Anonymous/Unknown Author Art (If you wish. Would probably help performance but reduces data by 15%)\n",
    "named_art = (labels <= (names.shape[0] - 2))\n",
    "artlog = artlog[named_art,:,:,:]\n",
    "labels = labels[named_art]\n",
    "numart = labels.shape[0]"
   ]
  },
  {
   "cell_type": "code",
   "execution_count": 33,
   "metadata": {},
   "outputs": [
    {
     "data": {
      "text/plain": [
       "(94668,)"
      ]
     },
     "execution_count": 33,
     "metadata": {},
     "output_type": "execute_result"
    }
   ],
   "source": [
    "labels.shape"
   ]
  },
  {
   "cell_type": "code",
   "execution_count": 13,
   "metadata": {},
   "outputs": [
    {
     "data": {
      "text/plain": [
       "112039"
      ]
     },
     "execution_count": 13,
     "metadata": {},
     "output_type": "execute_result"
    }
   ],
   "source": [
    "numart"
   ]
  },
  {
   "cell_type": "code",
   "execution_count": 34,
   "metadata": {
    "id": "JlvPkFCCl4Nc"
   },
   "outputs": [],
   "source": [
    "## Split Data\n",
    "\n",
    "#Declare Split Fractions\n",
    "testfrac = 0.1\n",
    "valfrac = 0.1\n",
    "\n",
    "#Divide into Splits\n",
    "test_train_split = round((1-(testfrac+valfrac)) * artlog.shape[0])\n",
    "test_val_split = round((1-(valfrac)) * artlog.shape[0])\n",
    "\n",
    "artlog_train = artlog[:test_train_split,:,:,:]\n",
    "artlog_test = artlog[test_train_split:test_val_split,:,:,:]\n",
    "artlog_val = artlog[test_val_split:,:,:,:]\n",
    "\n",
    "labels_train = labels[:test_train_split]\n",
    "labels_test = labels[test_train_split:test_val_split]\n",
    "labels_val = labels[test_val_split:]"
   ]
  },
  {
   "cell_type": "code",
   "execution_count": 35,
   "metadata": {},
   "outputs": [
    {
     "data": {
      "text/plain": [
       "(75734, 56, 56, 3)"
      ]
     },
     "execution_count": 35,
     "metadata": {},
     "output_type": "execute_result"
    }
   ],
   "source": [
    "artlog_train.shape\n"
   ]
  },
  {
   "cell_type": "code",
   "execution_count": 39,
   "metadata": {},
   "outputs": [
    {
     "data": {
      "text/plain": [
       "pandas.core.frame.DataFrame"
      ]
     },
     "execution_count": 39,
     "metadata": {},
     "output_type": "execute_result"
    }
   ],
   "source": []
  },
  {
   "cell_type": "code",
   "execution_count": 40,
   "metadata": {
    "colab": {
     "base_uri": "https://localhost:8080/"
    },
    "executionInfo": {
     "elapsed": 136,
     "status": "ok",
     "timestamp": 1651071055994,
     "user": {
      "displayName": "Edward",
      "userId": "06390780441557377801"
     },
     "user_tz": 240
    },
    "id": "Y6SNuCpAdW3q",
    "outputId": "bbc0e914-e0d2-4a28-ebc0-3da2e252a1ad"
   },
   "outputs": [],
   "source": [
    "## Direct Name Labels (If you want them)\n",
    "names = np.array(names)\n",
    "namelabels_train = names[labels_train]\n",
    "namelabels_test = names[labels_test]\n",
    "namelabels_val = names[labels_val]"
   ]
  },
  {
   "cell_type": "code",
   "execution_count": 41,
   "metadata": {},
   "outputs": [
    {
     "data": {
      "text/plain": [
       "array([['eversdijck, willem'],\n",
       "       ['maris, willem'],\n",
       "       ['maes, pieter'],\n",
       "       ...,\n",
       "       ['lepautre, pierre'],\n",
       "       ['lepautre, pierre'],\n",
       "       ['lepautre, pierre']], dtype=object)"
      ]
     },
     "execution_count": 41,
     "metadata": {},
     "output_type": "execute_result"
    }
   ],
   "source": [
    "namelabels_train"
   ]
  }
 ],
 "metadata": {
  "colab": {
   "authorship_tag": "ABX9TyMIgCBAQx4Aex1GtSzy9Bh2",
   "collapsed_sections": [],
   "mount_file_id": "1VuphPCLnUn-h7ENHAS9MPv0o2-2R5VnP",
   "name": "read_rijksdata.ipynb",
   "provenance": []
  },
  "kernelspec": {
   "display_name": "Python 3",
   "language": "python",
   "name": "python3"
  },
  "language_info": {
   "codemirror_mode": {
    "name": "ipython",
    "version": 3
   },
   "file_extension": ".py",
   "mimetype": "text/x-python",
   "name": "python",
   "nbconvert_exporter": "python",
   "pygments_lexer": "ipython3",
   "version": "3.8.5"
  }
 },
 "nbformat": 4,
 "nbformat_minor": 4
}
